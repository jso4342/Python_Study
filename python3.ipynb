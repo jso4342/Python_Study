{
  "nbformat": 4,
  "nbformat_minor": 0,
  "metadata": {
    "colab": {
      "name": "Untitled0.ipynb",
      "provenance": [],
      "authorship_tag": "ABX9TyMwZOAvPwCGekuuuyWQNzGO",
      "include_colab_link": true
    },
    "kernelspec": {
      "name": "python3",
      "display_name": "Python 3"
    },
    "language_info": {
      "name": "python"
    }
  },
  "cells": [
    {
      "cell_type": "markdown",
      "metadata": {
        "id": "view-in-github",
        "colab_type": "text"
      },
      "source": [
        "<a href=\"https://colab.research.google.com/github/jso4342/pythonTest/blob/main/python3.ipynb\" target=\"_parent\"><img src=\"https://colab.research.google.com/assets/colab-badge.svg\" alt=\"Open In Colab\"/></a>"
      ]
    },
    {
      "cell_type": "code",
      "execution_count": 4,
      "metadata": {
        "colab": {
          "base_uri": "https://localhost:8080/"
        },
        "id": "gWYkQ5qC6Vl1",
        "outputId": "ae0a0e48-0f2a-49d1-906b-cfa913062845"
      },
      "outputs": [
        {
          "output_type": "stream",
          "name": "stdout",
          "text": [
            "BeloveD\n",
            "BeloveD\n",
            "BeloveD\n",
            "BeloveD\n",
            "BeloveD\n",
            "BeloveD\n",
            "BeloveD\n",
            "BeloveD\n",
            "BeloveD\n",
            "BeloveD\n"
          ]
        }
      ],
      "source": [
        "# 반복문 while for \n",
        "\n",
        "# While \n",
        "\n",
        "# while 조건식 :\n",
        "#  수행문 \n",
        "\n",
        "# while True:     # 무한반복\n",
        "#   print(\"Hello World\")\n",
        "\n",
        "num = 0\n",
        "\n",
        "while num < 10:\n",
        "  print(num, \"BeloveD\")\n",
        "  num += 1"
      ]
    },
    {
      "cell_type": "code",
      "source": [
        "coffee = 10\n",
        "money = 300\n",
        "\n",
        "while True:\n",
        "  print(\"커피를 드립니다\")\n",
        "  coffee = coffee - 1\n",
        "  print(f\"남은 커피는 {coffee}개 입니다.\")\n",
        "  if coffee == 0:\n",
        "    print(\"커피가 더이상 없습니다\")\n",
        "    break     # break 를 만나는 순간 반복문을 빠져 나간다 "
      ],
      "metadata": {
        "colab": {
          "base_uri": "https://localhost:8080/"
        },
        "id": "enfUm1SlB6kf",
        "outputId": "9de6211e-49eb-4cdb-8cf8-534415357c68"
      },
      "execution_count": 5,
      "outputs": [
        {
          "output_type": "stream",
          "name": "stdout",
          "text": [
            "커피를 드립니다\n",
            "남은 커피는 9개 입니다.\n",
            "커피를 드립니다\n",
            "남은 커피는 8개 입니다.\n",
            "커피를 드립니다\n",
            "남은 커피는 7개 입니다.\n",
            "커피를 드립니다\n",
            "남은 커피는 6개 입니다.\n",
            "커피를 드립니다\n",
            "남은 커피는 5개 입니다.\n",
            "커피를 드립니다\n",
            "남은 커피는 4개 입니다.\n",
            "커피를 드립니다\n",
            "남은 커피는 3개 입니다.\n",
            "커피를 드립니다\n",
            "남은 커피는 2개 입니다.\n",
            "커피를 드립니다\n",
            "남은 커피는 1개 입니다.\n",
            "커피를 드립니다\n",
            "남은 커피는 0개 입니다.\n",
            "커피가 더이상 없습니다\n"
          ]
        }
      ]
    },
    {
      "cell_type": "code",
      "source": [
        "coffee = 10\n",
        "money = 300\n",
        "\n",
        "while True:\n",
        "  print(\"커피를 드립니다\")\n",
        "  coffee = coffee - 1\n",
        "  money = money - 50\n",
        "  print(f\"남은 커피는 {coffee}개 입니다.\")\n",
        "  print(f\"남은 현금은 {money}원 입니다.\")\n",
        "  if coffee == 0:\n",
        "    print(\"커피가 더이상 없습니다\")\n",
        "    break     # break 를 만나는 순간 반복문을 빠져 나간다 \n",
        "  if money == 0:\n",
        "    print(\"현금이 더이상 없습니다\")\n",
        "    break     # break 를 만나는 순간 반복문을 빠져 나간다 "
      ],
      "metadata": {
        "colab": {
          "base_uri": "https://localhost:8080/"
        },
        "id": "NYrLHY6gCdYF",
        "outputId": "385fbcbd-984b-47bc-8d9e-08e03b329b25"
      },
      "execution_count": 8,
      "outputs": [
        {
          "output_type": "stream",
          "name": "stdout",
          "text": [
            "커피를 드립니다\n",
            "남은 커피는 9개 입니다.\n",
            "남은 현금은 250원 입니다.\n",
            "커피를 드립니다\n",
            "남은 커피는 8개 입니다.\n",
            "남은 현금은 200원 입니다.\n",
            "커피를 드립니다\n",
            "남은 커피는 7개 입니다.\n",
            "남은 현금은 150원 입니다.\n",
            "커피를 드립니다\n",
            "남은 커피는 6개 입니다.\n",
            "남은 현금은 100원 입니다.\n",
            "커피를 드립니다\n",
            "남은 커피는 5개 입니다.\n",
            "남은 현금은 50원 입니다.\n",
            "커피를 드립니다\n",
            "남은 커피는 4개 입니다.\n",
            "남은 현금은 0원 입니다.\n",
            "현금이 더이상 없습니다\n"
          ]
        }
      ]
    },
    {
      "cell_type": "code",
      "source": [
        "num = 1\n",
        "while True:\n",
        "  print(num)\n",
        "  num = num + 2\n",
        "  if (num > 10):\n",
        "    break;\n",
        "\n",
        "\n",
        "num = 1\n",
        "while (num < 10):\n",
        "  print(num)\n",
        "  num = num + 2"
      ],
      "metadata": {
        "colab": {
          "base_uri": "https://localhost:8080/"
        },
        "id": "iSRXxQtuFPZK",
        "outputId": "4cffa749-ab57-4395-d42d-f48281e79ffe"
      },
      "execution_count": 12,
      "outputs": [
        {
          "output_type": "stream",
          "name": "stdout",
          "text": [
            "1\n",
            "3\n",
            "5\n",
            "7\n",
            "9\n"
          ]
        }
      ]
    },
    {
      "cell_type": "markdown",
      "source": [
        "# for 문 \n",
        "주로 반복 횟수가 정확할 때 사용한다"
      ],
      "metadata": {
        "id": "sQEIoLDiIE9s"
      }
    },
    {
      "cell_type": "code",
      "source": [
        "li = ['1', '2', '3']\n",
        "\n",
        "for i in li:\n",
        "  print(i)\n",
        "\n",
        "print(\"----------\")\n",
        "a = [(1,2), (3,4), (5,6)]\n",
        "\n",
        "for item1, item2 in a:\n",
        "  print(item1 + item2)"
      ],
      "metadata": {
        "colab": {
          "base_uri": "https://localhost:8080/"
        },
        "id": "YvYjnY2jGB3Y",
        "outputId": "69c4888a-a9a7-4697-dd2f-3d08ecc38a04"
      },
      "execution_count": 19,
      "outputs": [
        {
          "output_type": "stream",
          "name": "stdout",
          "text": [
            "1\n",
            "2\n",
            "3\n",
            "----------\n",
            "3\n",
            "7\n",
            "11\n"
          ]
        }
      ]
    },
    {
      "cell_type": "code",
      "source": [
        "eng = [90, 60, 90, 70, 80]\n",
        "id = 0\n",
        "for score in eng : \n",
        "  id += 1\n",
        "  if score < 80: continue\n",
        "  print(f\"{id} 번 학생은 합격입니다.\")\n",
        "  "
      ],
      "metadata": {
        "colab": {
          "base_uri": "https://localhost:8080/"
        },
        "id": "5UkyN5Y4JAWh",
        "outputId": "94f068df-66af-46ad-a754-c1432590d55f"
      },
      "execution_count": 23,
      "outputs": [
        {
          "output_type": "stream",
          "name": "stdout",
          "text": [
            "1 번 학생은 합격입니다.\n",
            "3 번 학생은 합격입니다.\n",
            "5 번 학생은 합격입니다.\n"
          ]
        }
      ]
    },
    {
      "cell_type": "code",
      "source": [
        "sum = 0\n",
        "for i in range (11) : # 시작이 0 일 경우 생략 \n",
        "  sum += i\n",
        "print(sum)"
      ],
      "metadata": {
        "colab": {
          "base_uri": "https://localhost:8080/"
        },
        "id": "2YM1tTBPMCNj",
        "outputId": "49b94d1a-15ae-4f95-c866-37f2b4c32f92"
      },
      "execution_count": 27,
      "outputs": [
        {
          "output_type": "stream",
          "name": "stdout",
          "text": [
            "55\n"
          ]
        }
      ]
    },
    {
      "cell_type": "code",
      "source": [
        "for i in range (2,10) : \n",
        "  for j in range (1, 10) : \n",
        "    print(f'{i} * {j} = {i * j}' , end = \"\\t\")\n",
        "  print()"
      ],
      "metadata": {
        "colab": {
          "base_uri": "https://localhost:8080/"
        },
        "id": "Wgtn-1olM77l",
        "outputId": "fb26b502-87d8-4e30-9973-dfca669100d5"
      },
      "execution_count": 41,
      "outputs": [
        {
          "output_type": "stream",
          "name": "stdout",
          "text": [
            "2 * 1 = 2\t2 * 2 = 4\t2 * 3 = 6\t2 * 4 = 8\t2 * 5 = 10\t2 * 6 = 12\t2 * 7 = 14\t2 * 8 = 16\t2 * 9 = 18\t\n",
            "3 * 1 = 3\t3 * 2 = 6\t3 * 3 = 9\t3 * 4 = 12\t3 * 5 = 15\t3 * 6 = 18\t3 * 7 = 21\t3 * 8 = 24\t3 * 9 = 27\t\n",
            "4 * 1 = 4\t4 * 2 = 8\t4 * 3 = 12\t4 * 4 = 16\t4 * 5 = 20\t4 * 6 = 24\t4 * 7 = 28\t4 * 8 = 32\t4 * 9 = 36\t\n",
            "5 * 1 = 5\t5 * 2 = 10\t5 * 3 = 15\t5 * 4 = 20\t5 * 5 = 25\t5 * 6 = 30\t5 * 7 = 35\t5 * 8 = 40\t5 * 9 = 45\t\n",
            "6 * 1 = 6\t6 * 2 = 12\t6 * 3 = 18\t6 * 4 = 24\t6 * 5 = 30\t6 * 6 = 36\t6 * 7 = 42\t6 * 8 = 48\t6 * 9 = 54\t\n",
            "7 * 1 = 7\t7 * 2 = 14\t7 * 3 = 21\t7 * 4 = 28\t7 * 5 = 35\t7 * 6 = 42\t7 * 7 = 49\t7 * 8 = 56\t7 * 9 = 63\t\n",
            "8 * 1 = 8\t8 * 2 = 16\t8 * 3 = 24\t8 * 4 = 32\t8 * 5 = 40\t8 * 6 = 48\t8 * 7 = 56\t8 * 8 = 64\t8 * 9 = 72\t\n",
            "9 * 1 = 9\t9 * 2 = 18\t9 * 3 = 27\t9 * 4 = 36\t9 * 5 = 45\t9 * 6 = 54\t9 * 7 = 63\t9 * 8 = 72\t9 * 9 = 81\t\n"
          ]
        }
      ]
    },
    {
      "cell_type": "code",
      "source": [
        "sum = 0\n",
        "n = 0\n",
        "while n < 1000:  \n",
        "  if n % 3 == 0: sum = sum + n\n",
        "  n += 1\n",
        "print(sum)"
      ],
      "metadata": {
        "colab": {
          "base_uri": "https://localhost:8080/"
        },
        "id": "yP1vsiXkSzyw",
        "outputId": "7db64598-f90b-45d1-9a3e-e27fa9fc3c25"
      },
      "execution_count": 58,
      "outputs": [
        {
          "output_type": "stream",
          "name": "stdout",
          "text": [
            "166833\n"
          ]
        }
      ]
    },
    {
      "cell_type": "code",
      "source": [
        "n = 0\n",
        "s = \"*\"\n",
        "while (n < 6): \n",
        "  print(s * n)\n",
        "  n = n + 1"
      ],
      "metadata": {
        "colab": {
          "base_uri": "https://localhost:8080/"
        },
        "id": "QwP96gyYNPiu",
        "outputId": "d05537e2-bc1f-45b0-b99f-d1e7d8bd79db"
      },
      "execution_count": 69,
      "outputs": [
        {
          "output_type": "stream",
          "name": "stdout",
          "text": [
            "\n",
            "*\n",
            "**\n",
            "***\n",
            "****\n",
            "*****\n"
          ]
        }
      ]
    },
    {
      "cell_type": "code",
      "source": [
        "from typing_extensions import IntVar\n",
        "# 리스트 내포 (list comprehension)\n",
        "\n",
        "a = [1,2,3,4]\n",
        "result = []\n",
        "\n",
        "for num in a:\n",
        "  result.append(num * 3)\n",
        "print(result)\n",
        "\n",
        "result2 = [num * 3      for num in a]\n",
        "print(result2)\n",
        "\n",
        "# 조건식까지 추가 가능\n",
        "result3 = [num * 3      for num in a    if num % 2 == 0]\n",
        "print(result3)"
      ],
      "metadata": {
        "colab": {
          "base_uri": "https://localhost:8080/"
        },
        "id": "fnvB-Pq_V-3X",
        "outputId": "d124fa66-d8b6-4936-aef8-c219c46fdfac"
      },
      "execution_count": 73,
      "outputs": [
        {
          "output_type": "stream",
          "name": "stdout",
          "text": [
            "[3, 6, 9, 12]\n",
            "[3, 6, 9, 12]\n",
            "[6, 12]\n"
          ]
        }
      ]
    },
    {
      "cell_type": "code",
      "source": [
        "num = [1,2,3,4,5]\n",
        "a = [1,2,3,4,5]\n",
        "result = [num * 3   for num in a   if num % 2 ==1]\n",
        "print(result)"
      ],
      "metadata": {
        "colab": {
          "base_uri": "https://localhost:8080/"
        },
        "id": "tudKMFStXx60",
        "outputId": "48a8fdbb-52eb-4dd3-c76d-ed9faf9e3626"
      },
      "execution_count": 87,
      "outputs": [
        {
          "output_type": "stream",
          "name": "stdout",
          "text": [
            "[3, 9, 15]\n"
          ]
        }
      ]
    },
    {
      "cell_type": "code",
      "source": [
        "n = 5\n",
        "while (n > 0): \n",
        "  print(\"*\" * n)\n",
        "  n = n - 1"
      ],
      "metadata": {
        "colab": {
          "base_uri": "https://localhost:8080/"
        },
        "id": "TEpUO5_mVu-b",
        "outputId": "242d939e-6ff8-4a1b-8156-c102f0d0b28d"
      },
      "execution_count": 88,
      "outputs": [
        {
          "output_type": "stream",
          "name": "stdout",
          "text": [
            "*****\n",
            "****\n",
            "***\n",
            "**\n",
            "*\n"
          ]
        }
      ]
    },
    {
      "cell_type": "code",
      "source": [
        "for i in range (5):\n",
        "  print(\"*\" * (5-i))\n",
        "  i += 1"
      ],
      "metadata": {
        "colab": {
          "base_uri": "https://localhost:8080/"
        },
        "id": "cQcgOb79ZHd-",
        "outputId": "96defa0c-919f-4c5e-bc96-93061c8d39e2"
      },
      "execution_count": 93,
      "outputs": [
        {
          "output_type": "stream",
          "name": "stdout",
          "text": [
            "*****\n",
            "****\n",
            "***\n",
            "**\n",
            "*\n"
          ]
        }
      ]
    },
    {
      "cell_type": "code",
      "source": [
        "num = int(input(\"줄의 갯수를 입력하세요: \"))\n",
        "n = 1\n",
        "for i in range (num):\n",
        "  print(\"*\" * (n))\n",
        "  n += 1"
      ],
      "metadata": {
        "colab": {
          "base_uri": "https://localhost:8080/"
        },
        "id": "psaNjLAcaNGU",
        "outputId": "41f1fdeb-3905-4e93-f430-c6bad2582c1d"
      },
      "execution_count": 96,
      "outputs": [
        {
          "output_type": "stream",
          "name": "stdout",
          "text": [
            "줄의 갯수를 입력하세요: 6\n",
            "*\n",
            "**\n",
            "***\n",
            "****\n",
            "*****\n",
            "******\n"
          ]
        }
      ]
    },
    {
      "cell_type": "code",
      "source": [
        "num = int(input(\"줄의 갯수를 입력하세요: \"))\n",
        "for i in range (num):\n",
        "  print(\"*\" * (num-i))\n",
        "  i += 1"
      ],
      "metadata": {
        "colab": {
          "base_uri": "https://localhost:8080/"
        },
        "id": "UVIQtxPfanpR",
        "outputId": "d534c064-10b8-4b8d-8470-69985c508912"
      },
      "execution_count": 97,
      "outputs": [
        {
          "output_type": "stream",
          "name": "stdout",
          "text": [
            "줄의 갯수를 입력하세요: 6\n",
            "******\n",
            "*****\n",
            "****\n",
            "***\n",
            "**\n",
            "*\n"
          ]
        }
      ]
    },
    {
      "cell_type": "code",
      "source": [
        "n = int(input('줄의 갯수를 입력하세요:  : '))\n",
        "\n",
        "for i in range(1, n + 1):\n",
        "    print(\" \" * (n-i), \"*\" * (2 * i - 1))"
      ],
      "metadata": {
        "colab": {
          "base_uri": "https://localhost:8080/"
        },
        "id": "Nt_VCDVSbB92",
        "outputId": "a6686460-d926-425d-d0d3-13bdc74a78ef"
      },
      "execution_count": 106,
      "outputs": [
        {
          "output_type": "stream",
          "name": "stdout",
          "text": [
            "줄의 갯수를 입력하세요:  : 1\n",
            " *\n"
          ]
        }
      ]
    },
    {
      "cell_type": "markdown",
      "source": [
        "# 함수\n",
        "\n",
        "바나나 -> 믹서기 -> 바나나주스\n",
        "\n",
        "사과 -> 믹서기 -> 사과주스\n",
        "\n",
        "------------------------\n",
        "\n",
        "def 함수이름(매개변수):\n",
        "  \n",
        "  수행문장\n",
        "  \n",
        "  수행문장 "
      ],
      "metadata": {
        "id": "6AwHovp6xTtK"
      }
    },
    {
      "cell_type": "code",
      "source": [
        "# 1.입력도 있고 리턴 값도 있는 함수 \n",
        "def add(a,b):\n",
        "  return a+b\n",
        "\n",
        "print(add(3,4))\n",
        "\n",
        "# 2. 입력이 없고 리턴도 없는 함수 \n",
        "def a():\n",
        "  print(\"입력이 없고 리턴도 없는 함수\")\n",
        "\n",
        "# 3. 입력이 있고 리턴이 없는 함수\n",
        "def b(name):\n",
        "  print(name, '님을 환영합니다.')\n",
        "  \n",
        "# 4. 입력이 없고 리턴은 있는 함수\n",
        "def c():\n",
        "  return \"Hi\"\n",
        "\n",
        "c()"
      ],
      "metadata": {
        "colab": {
          "base_uri": "https://localhost:8080/",
          "height": 52
        },
        "id": "0dotou1gbF5L",
        "outputId": "d92efb2f-c191-4f64-a8e1-4de3f931bc88"
      },
      "execution_count": 112,
      "outputs": [
        {
          "output_type": "stream",
          "name": "stdout",
          "text": [
            "7\n"
          ]
        },
        {
          "output_type": "execute_result",
          "data": {
            "text/plain": [
              "'Hi'"
            ],
            "application/vnd.google.colaboratory.intrinsic+json": {
              "type": "string"
            }
          },
          "metadata": {},
          "execution_count": 112
        }
      ]
    },
    {
      "cell_type": "code",
      "source": [
        "def add2(a,b,c):\n",
        "  return a+b+c\n",
        "\n",
        "def add3(a,b,c,d):\n",
        "  return a+b+c+d\n",
        "\n",
        "def add_many(*args):  # 입력된 값들을 전부 모아서 튜플로 만들어준다. \n",
        "  sum = 0\n",
        "  for i in args: \n",
        "    sum += i\n",
        "  return sum\n",
        "\n",
        "print(add_many(2,3,5,6,1,34,3)) "
      ],
      "metadata": {
        "colab": {
          "base_uri": "https://localhost:8080/"
        },
        "id": "15prc7UEzzi-",
        "outputId": "1c478d26-c943-4da4-c847-7b8d39d80db4"
      },
      "execution_count": 113,
      "outputs": [
        {
          "output_type": "stream",
          "name": "stdout",
          "text": [
            "54\n"
          ]
        }
      ]
    },
    {
      "cell_type": "code",
      "source": [
        "a = 1\n",
        "\n",
        "def vartest(a):\n",
        "  a += 1\n",
        "  return a\n",
        "\n",
        "print(vartest(a))\n",
        "print(a)"
      ],
      "metadata": {
        "colab": {
          "base_uri": "https://localhost:8080/"
        },
        "id": "umJltsGL38Dy",
        "outputId": "251ef4ec-fe26-4289-fc2a-7c36e3686e17"
      },
      "execution_count": 114,
      "outputs": [
        {
          "output_type": "stream",
          "name": "stdout",
          "text": [
            "2\n",
            "1\n"
          ]
        }
      ]
    },
    {
      "cell_type": "code",
      "source": [
        "# 클래스 정의\n",
        "class Calculator:\n",
        "  def __init__(self): # 더블 언더스코어 -> '던더' 이닛 \n",
        "    self.result = 0   # 생성자 Constructor 객체를 생성할 때 자동 호출되어 실행된다\n",
        "\n",
        "  def add(self, num): # 함수를 클래스 안에서 구현하면 메소드, 그 메소드를 객체가 호출하여 사용한다.\n",
        "    self.result += num\n",
        "    return self.result          # 메소드의 매개변수 첫번째는 self 를 사용하여 그 자리에는 객체 명이 오게 된다\n",
        "  \n",
        "\n",
        "# 객체 생성\n",
        "cal1 = Calculator()   # 객체를 생성할 때 생성자가 호출되어 call.result = 0 로 초기화한다\n",
        "cal2 = Calculator()\n",
        "cal3 = Calculator()\n",
        "\n",
        "# 메소드 호출\n",
        "print(cal1.add(1))\n",
        "print(cal2.add(8))\n",
        "print(cal3.add(2))"
      ],
      "metadata": {
        "colab": {
          "base_uri": "https://localhost:8080/"
        },
        "id": "wg_0TBsG8GVr",
        "outputId": "c39c762b-107a-4abc-cc1f-32765319a6e3"
      },
      "execution_count": 124,
      "outputs": [
        {
          "output_type": "stream",
          "name": "stdout",
          "text": [
            "1\n",
            "8\n",
            "2\n"
          ]
        }
      ]
    },
    {
      "cell_type": "code",
      "source": [
        "print(cal1.add(1))\n",
        "print(cal1.add(1))\n",
        "print(cal1.add(1))"
      ],
      "metadata": {
        "colab": {
          "base_uri": "https://localhost:8080/"
        },
        "id": "v5BX3nSZAJsy",
        "outputId": "33547d80-5850-42cc-c43e-b28687bf1d23"
      },
      "execution_count": 125,
      "outputs": [
        {
          "output_type": "stream",
          "name": "stdout",
          "text": [
            "2\n",
            "3\n",
            "4\n"
          ]
        }
      ]
    },
    {
      "cell_type": "markdown",
      "source": [
        "# 객체와 인스턴스의 차이 \n",
        "\n",
        "클래스로 만든 객체를 인스턴스라고도 한다. 그러면 객체와 인스턴스의 차이는 무엇일까?\n",
        "\n",
        "a = Cal() 이렇게 만든 a 는 객체이다.\n",
        "\n",
        "a는 Cal() 클래스로 만든 인스턴스이다.\n",
        "\n",
        "즉, 인스턴스라는 표현은 객체가 어떤 클래스로 만든 것인지 관계 위주로 설명할 때 사용한다\n",
        "\n",
        "다시 한 번 표현하면, 'a 는 인스턴스다' 보다는 'a는 객체다'라는 표현이 더 어울리며,\n",
        "\n",
        "'a 는 Cal 클래스의 객체다' 라는 표현보다는 'a 는 Cal 클래스의 인스턴스다' 라는 표현이 더 적절하다. "
      ],
      "metadata": {
        "id": "IqVfAwrIAcr7"
      }
    },
    {
      "cell_type": "code",
      "source": [
        "# 사칙연산 계산 클래스 -> 계산기 객체를 생성 -> 사칙 연산은 메소드로 구현한다\n",
        "\n",
        "class FourCal:\n",
        "  def setdata(self, first, second): # 객체별 변수 선언 메소드\n",
        "    self.first = first\n",
        "    self.second = second \n",
        "  def add(self):\n",
        "    result=self.first + self.second\n",
        "    return result\n",
        "  def mul(self):\n",
        "    result= self.first * self.second\n",
        "    return result\n",
        "  def sub(self):\n",
        "    result= self.first - self.second\n",
        "    return result\n",
        "  def div(self):\n",
        "    result = self.first / self.second\n",
        "    return result\n",
        "\n",
        "a = FourCal()\n",
        "b = FourCal()\n",
        "\n",
        "a.setdata(4,2)\n",
        "b.setdata(3,5)\n",
        "\n",
        "print(a.second)\n",
        "print(b.first)\n",
        "\n",
        "b.add()\n",
        "\n",
        "# 객체마다 다른 고유의 변수값을 각각 따로 유지하게 된다."
      ],
      "metadata": {
        "colab": {
          "base_uri": "https://localhost:8080/"
        },
        "id": "9wM7E6bnBr-N",
        "outputId": "3eafd8a1-3e9f-4d98-fbb3-1bc4ce4f025f"
      },
      "execution_count": 129,
      "outputs": [
        {
          "output_type": "stream",
          "name": "stdout",
          "text": [
            "2\n",
            "3\n"
          ]
        },
        {
          "output_type": "execute_result",
          "data": {
            "text/plain": [
              "8"
            ]
          },
          "metadata": {},
          "execution_count": 129
        }
      ]
    },
    {
      "cell_type": "code",
      "source": [
        "class FourCal:\n",
        "  def __init__(self,first,second): # 생성자 : 객체 생성시 자동 실행 \n",
        "    self.first = first\n",
        "    self.second = second \n",
        "\n",
        "  def add(self):\n",
        "    result=self.first + self.second\n",
        "    return result\n",
        "  def mul(self):\n",
        "    result= self.first * self.second\n",
        "    return result\n",
        "  def sub(self):\n",
        "    result= self.first - self.second\n",
        "    return result\n",
        "  def div(self):\n",
        "    result = self.first / self.second\n",
        "    return result\n",
        "\n",
        "a = FourCal(4,2)\n",
        "b = FourCal(3,6)\n",
        "\n",
        "b.add()"
      ],
      "metadata": {
        "colab": {
          "base_uri": "https://localhost:8080/"
        },
        "id": "FOTK9jTRFSfy",
        "outputId": "658c7d2e-1262-48df-b657-17c115c63c5f"
      },
      "execution_count": 131,
      "outputs": [
        {
          "output_type": "execute_result",
          "data": {
            "text/plain": [
              "9"
            ]
          },
          "metadata": {},
          "execution_count": 131
        }
      ]
    },
    {
      "cell_type": "markdown",
      "source": [
        "# 상속 inheritance \n",
        "\n",
        "자바에서는 다중상속을 지원하지 않는다.\n",
        "\n",
        "파이썬은 다중상속을 지원함\n",
        "\n"
      ],
      "metadata": {
        "id": "XqxPTOExGem1"
      }
    },
    {
      "cell_type": "code",
      "source": [
        "# 상속은 기존 클래스를 변경하지 않고 기능을 추가하거나 기존 기능을 변경할 때 사용한다.\n",
        "\n",
        "class MoreFourCal(FourCal):\n",
        "  pass\n",
        "\n",
        "c = MoreFourCal(4,2)\n",
        "c.add()"
      ],
      "metadata": {
        "colab": {
          "base_uri": "https://localhost:8080/"
        },
        "id": "lSZlK22EFo7F",
        "outputId": "49c79ef7-d0dd-4257-8f2e-37a6e38f1123"
      },
      "execution_count": 133,
      "outputs": [
        {
          "output_type": "execute_result",
          "data": {
            "text/plain": [
              "6"
            ]
          },
          "metadata": {},
          "execution_count": 133
        }
      ]
    },
    {
      "cell_type": "code",
      "source": [
        "a = FourCal(4, 0)\n",
        "a.div()"
      ],
      "metadata": {
        "colab": {
          "base_uri": "https://localhost:8080/",
          "height": 300
        },
        "id": "H7GIbdztL8PJ",
        "outputId": "8804150f-cbb6-4969-8e5b-851e68c53ae6"
      },
      "execution_count": 134,
      "outputs": [
        {
          "output_type": "error",
          "ename": "ZeroDivisionError",
          "evalue": "ignored",
          "traceback": [
            "\u001b[0;31m---------------------------------------------------------------------------\u001b[0m",
            "\u001b[0;31mZeroDivisionError\u001b[0m                         Traceback (most recent call last)",
            "\u001b[0;32m<ipython-input-134-5e9b2f546e11>\u001b[0m in \u001b[0;36m<module>\u001b[0;34m()\u001b[0m\n\u001b[1;32m      1\u001b[0m \u001b[0ma\u001b[0m \u001b[0;34m=\u001b[0m \u001b[0mFourCal\u001b[0m\u001b[0;34m(\u001b[0m\u001b[0;36m4\u001b[0m\u001b[0;34m,\u001b[0m \u001b[0;36m0\u001b[0m\u001b[0;34m)\u001b[0m\u001b[0;34m\u001b[0m\u001b[0;34m\u001b[0m\u001b[0m\n\u001b[0;32m----> 2\u001b[0;31m \u001b[0ma\u001b[0m\u001b[0;34m.\u001b[0m\u001b[0mdiv\u001b[0m\u001b[0;34m(\u001b[0m\u001b[0;34m)\u001b[0m\u001b[0;34m\u001b[0m\u001b[0;34m\u001b[0m\u001b[0m\n\u001b[0m",
            "\u001b[0;32m<ipython-input-131-17476f82a507>\u001b[0m in \u001b[0;36mdiv\u001b[0;34m(self)\u001b[0m\n\u001b[1;32m     14\u001b[0m     \u001b[0;32mreturn\u001b[0m \u001b[0mresult\u001b[0m\u001b[0;34m\u001b[0m\u001b[0;34m\u001b[0m\u001b[0m\n\u001b[1;32m     15\u001b[0m   \u001b[0;32mdef\u001b[0m \u001b[0mdiv\u001b[0m\u001b[0;34m(\u001b[0m\u001b[0mself\u001b[0m\u001b[0;34m)\u001b[0m\u001b[0;34m:\u001b[0m\u001b[0;34m\u001b[0m\u001b[0;34m\u001b[0m\u001b[0m\n\u001b[0;32m---> 16\u001b[0;31m     \u001b[0mresult\u001b[0m \u001b[0;34m=\u001b[0m \u001b[0mself\u001b[0m\u001b[0;34m.\u001b[0m\u001b[0mfirst\u001b[0m \u001b[0;34m/\u001b[0m \u001b[0mself\u001b[0m\u001b[0;34m.\u001b[0m\u001b[0msecond\u001b[0m\u001b[0;34m\u001b[0m\u001b[0;34m\u001b[0m\u001b[0m\n\u001b[0m\u001b[1;32m     17\u001b[0m     \u001b[0;32mreturn\u001b[0m \u001b[0mresult\u001b[0m\u001b[0;34m\u001b[0m\u001b[0;34m\u001b[0m\u001b[0m\n\u001b[1;32m     18\u001b[0m \u001b[0;34m\u001b[0m\u001b[0m\n",
            "\u001b[0;31mZeroDivisionError\u001b[0m: division by zero"
          ]
        }
      ]
    },
    {
      "cell_type": "code",
      "source": [
        "class SafeFourCal(FourCal):\n",
        "  def div(self): # 상속받은 FourCal 에 동일한 이름의 메소드를 자식 클래스가 오버라이드\n",
        "    if self.second == 0:\n",
        "      return 0\n",
        "    else:\n",
        "      return self.first/self.second"
      ],
      "metadata": {
        "id": "pASHLOL1LYug"
      },
      "execution_count": 135,
      "outputs": []
    },
    {
      "cell_type": "code",
      "source": [
        "a = SafeFourCal(4, 0)\n",
        "a.div() # FourCal 클래스를 상속한 SafeFourCal 클래스의 div 가 호출되어 자식의 메소드가 호출 "
      ],
      "metadata": {
        "colab": {
          "base_uri": "https://localhost:8080/"
        },
        "id": "ZbAEceviMBDN",
        "outputId": "8468a38e-ef3f-4187-b395-03756aa6f5d7"
      },
      "execution_count": 136,
      "outputs": [
        {
          "output_type": "execute_result",
          "data": {
            "text/plain": [
              "0"
            ]
          },
          "metadata": {},
          "execution_count": 136
        }
      ]
    },
    {
      "cell_type": "code",
      "source": [
        "class Family:\n",
        "  lastname = \"김\"   # 클래스 변수\n",
        "\n",
        "\n",
        "# 객체 변수는 다른 객체들에 영향을 받지 않고 독립적으로 그 값을 유지한다 (객체지향의 핵심)\n",
        "a = Family()        # 객체를 생성\n",
        "a.lastname          # 객체를 통해서 변수 접근 ( 메서드 접근 )\n",
        "print(a.lastname)\n",
        "\n",
        "# 클래스 변수는 객체를 생성하지 않고도 클래스명.변수명 으로 접근 가능 \n",
        "Family.lastname     \n",
        "print(Family.lastname)"
      ],
      "metadata": {
        "colab": {
          "base_uri": "https://localhost:8080/"
        },
        "id": "6opp-zyRNOIU",
        "outputId": "9d893847-8219-46e0-b552-08e67f3a7de5"
      },
      "execution_count": 141,
      "outputs": [
        {
          "output_type": "stream",
          "name": "stdout",
          "text": [
            "김\n",
            "김\n"
          ]
        }
      ]
    },
    {
      "cell_type": "code",
      "source": [
        "Family.lastname = '최'\n",
        "print(Family.lastname)\n",
        "print(a.lastname)"
      ],
      "metadata": {
        "colab": {
          "base_uri": "https://localhost:8080/"
        },
        "id": "IEfSWNCaN_EW",
        "outputId": "2401a70d-39a2-44a8-9491-16ac056cfb82"
      },
      "execution_count": 142,
      "outputs": [
        {
          "output_type": "stream",
          "name": "stdout",
          "text": [
            "최\n",
            "최\n"
          ]
        }
      ]
    }
  ]
}