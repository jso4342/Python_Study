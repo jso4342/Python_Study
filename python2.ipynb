{
  "nbformat": 4,
  "nbformat_minor": 0,
  "metadata": {
    "colab": {
      "name": "python2.ipynb",
      "provenance": [],
      "authorship_tag": "ABX9TyME/6GDXQce4x30hqevmuCM",
      "include_colab_link": true
    },
    "kernelspec": {
      "name": "python3",
      "display_name": "Python 3"
    },
    "language_info": {
      "name": "python"
    }
  },
  "cells": [
    {
      "cell_type": "markdown",
      "metadata": {
        "id": "view-in-github",
        "colab_type": "text"
      },
      "source": [
        "<a href=\"https://colab.research.google.com/github/jso4342/pythonTest/blob/main/python2.ipynb\" target=\"_parent\"><img src=\"https://colab.research.google.com/assets/colab-badge.svg\" alt=\"Open In Colab\"/></a>"
      ]
    },
    {
      "cell_type": "code",
      "execution_count": 1,
      "metadata": {
        "colab": {
          "base_uri": "https://localhost:8080/",
          "height": 52
        },
        "id": "fFAPJHV1zKUD",
        "outputId": "644d3c71-2b7c-4edb-e53b-5d007302437b"
      },
      "outputs": [
        {
          "name": "stdout",
          "output_type": "stream",
          "text": [
            "fsdfdsdfs\n"
          ]
        },
        {
          "output_type": "execute_result",
          "data": {
            "text/plain": [
              "'fsdfdsdfs'"
            ],
            "application/vnd.google.colaboratory.intrinsic+json": {
              "type": "string"
            }
          },
          "metadata": {},
          "execution_count": 1
        }
      ],
      "source": [
        "# input 입력\n",
        "\n",
        "input()"
      ]
    },
    {
      "cell_type": "code",
      "source": [
        "input('당신의 이름을 입력하세요')"
      ],
      "metadata": {
        "colab": {
          "base_uri": "https://localhost:8080/",
          "height": 52
        },
        "id": "VdvTzrHU0hJM",
        "outputId": "6d7eea5d-6ec8-4863-f973-efbec173d270"
      },
      "execution_count": 2,
      "outputs": [
        {
          "name": "stdout",
          "output_type": "stream",
          "text": [
            "당신의 이름을 입력하세요장서영\n"
          ]
        },
        {
          "output_type": "execute_result",
          "data": {
            "text/plain": [
              "'장서영'"
            ],
            "application/vnd.google.colaboratory.intrinsic+json": {
              "type": "string"
            }
          },
          "metadata": {},
          "execution_count": 2
        }
      ]
    },
    {
      "cell_type": "code",
      "source": [
        "id = input(\"아이디를 입력하세요\")"
      ],
      "metadata": {
        "colab": {
          "base_uri": "https://localhost:8080/"
        },
        "id": "W2zbVK-R01zT",
        "outputId": "1cebd2d4-70bd-4104-b160-a480ed27bd72"
      },
      "execution_count": 3,
      "outputs": [
        {
          "name": "stdout",
          "output_type": "stream",
          "text": [
            "아이디를 입력하세요jso4342\n"
          ]
        }
      ]
    },
    {
      "cell_type": "code",
      "source": [
        "print(f'{id} 님 환영합니다.')"
      ],
      "metadata": {
        "colab": {
          "base_uri": "https://localhost:8080/"
        },
        "id": "A3IyXH7w05pl",
        "outputId": "3b341278-af30-4050-a47b-88aa5a575d54"
      },
      "execution_count": 4,
      "outputs": [
        {
          "output_type": "stream",
          "name": "stdout",
          "text": [
            "jso4342 님 환영합니다.\n"
          ]
        }
      ]
    },
    {
      "cell_type": "code",
      "source": [
        "age = input(\"당신의 나이를 입력하세요\")\n",
        "print(f'당신의 나이는 {age + 1}입니다') \n",
        "# 하지만 input 은 받은 모든 데이터를 String 으로 받는다 > \"20\" + 1 : 오류남  "
      ],
      "metadata": {
        "colab": {
          "base_uri": "https://localhost:8080/",
          "height": 215
        },
        "id": "wY2ke7Dj1gx4",
        "outputId": "4501e81b-4521-4ede-f021-ae7d284654e6"
      },
      "execution_count": 6,
      "outputs": [
        {
          "name": "stdout",
          "output_type": "stream",
          "text": [
            "당신의 나이를 입력하세요20\n"
          ]
        },
        {
          "output_type": "error",
          "ename": "TypeError",
          "evalue": "ignored",
          "traceback": [
            "\u001b[0;31m---------------------------------------------------------------------------\u001b[0m",
            "\u001b[0;31mTypeError\u001b[0m                                 Traceback (most recent call last)",
            "\u001b[0;32m<ipython-input-6-079099dce975>\u001b[0m in \u001b[0;36m<module>\u001b[0;34m()\u001b[0m\n\u001b[1;32m      1\u001b[0m \u001b[0mage\u001b[0m \u001b[0;34m=\u001b[0m \u001b[0minput\u001b[0m\u001b[0;34m(\u001b[0m\u001b[0;34m\"당신의 나이를 입력하세요\"\u001b[0m\u001b[0;34m)\u001b[0m\u001b[0;34m\u001b[0m\u001b[0;34m\u001b[0m\u001b[0m\n\u001b[0;32m----> 2\u001b[0;31m \u001b[0mprint\u001b[0m\u001b[0;34m(\u001b[0m\u001b[0;34mf'당신의 나이는 {age + 1}입니다'\u001b[0m\u001b[0;34m)\u001b[0m\u001b[0;34m\u001b[0m\u001b[0;34m\u001b[0m\u001b[0m\n\u001b[0m\u001b[1;32m      3\u001b[0m \u001b[0;31m# 하지만 input 은 받은 모든 데이터를 String 으로 받는다 > \"20\" + 1 : 오류남\u001b[0m\u001b[0;34m\u001b[0m\u001b[0;34m\u001b[0m\u001b[0;34m\u001b[0m\u001b[0m\n",
            "\u001b[0;31mTypeError\u001b[0m: can only concatenate str (not \"int\") to str"
          ]
        }
      ]
    },
    {
      "cell_type": "code",
      "source": [
        "age = int(input(\"당신의 나이를 입력하세요\")) # casting \n",
        "print(type(age)) \n",
        "print(f'당신의 나이는 {age + 1}입니다') "
      ],
      "metadata": {
        "colab": {
          "base_uri": "https://localhost:8080/"
        },
        "id": "_rpUZ57n2V7T",
        "outputId": "cca9231e-c85d-4639-c8dc-fd73b1751f32"
      },
      "execution_count": 7,
      "outputs": [
        {
          "output_type": "stream",
          "name": "stdout",
          "text": [
            "당신의 나이를 입력하세요20\n",
            "<class 'int'>\n",
            "당신의 나이는 21입니다\n"
          ]
        }
      ]
    },
    {
      "cell_type": "markdown",
      "source": [
        "\n",
        "# 리스트 list\n",
        " 1. 리스트는 [] 를 사용하여 만든다. \n",
        " 2. 리스트는 자료형을 혼합하여 저장할수 도 있다. (파이썬 장점이자 단점)\n",
        " 3. 리스트는 인덱싱과 슬라이싱이 가능하다. \n",
        " 4. 리스트에서는 삽입/삭제/수정이 가능하다. \n",
        "\n",
        "리스트를 사용하면 2,4,6,8,10... 여러 데이터의 모음을 간단하게 표현할수 있다. "
      ],
      "metadata": {
        "id": "nlvgqEy7CtlD"
      }
    },
    {
      "cell_type": "code",
      "source": [
        "# 컬렉션 List tuple dict set\n",
        "\n",
        "# 여러개의 데이터를 담아두는 자료형\n",
        "\n",
        "# 리스트 list\n",
        "\n",
        "# 리스트를 사용하면 2,4,6,8,10,... 여러 데이터의 모음을 간단하게 표현할 수 있다 \n",
        "\n",
        "num = [2,4,6,8,10]  # 대괄호 \n",
        "print(num)\n",
        "\n",
        "li1 = [1,2, '영희', '철수'] # 자료형을 혼합하여 사용할 수도 있다 (장점이자 단점)\n",
        "print(li1)"
      ],
      "metadata": {
        "colab": {
          "base_uri": "https://localhost:8080/"
        },
        "id": "aEbbxiRc3zzJ",
        "outputId": "629e431a-cbc7-4803-e1c2-26241731484e"
      },
      "execution_count": 8,
      "outputs": [
        {
          "output_type": "stream",
          "name": "stdout",
          "text": [
            "[2, 4, 6, 8, 10]\n",
            "[1, 2, '영희', '철수']\n"
          ]
        }
      ]
    },
    {
      "cell_type": "code",
      "source": [
        "# 리스트에서의 인덱싱과 슬라이싱\n",
        "# 리스트는 인덱싱과 슬라이싱이 가능하다 \n",
        "\n",
        "num = [2,4,6,8,10]\n",
        "print(num[-1]) # 뒤에서 첫번째 것 :: print 의 문법이 그대로 사용된다 "
      ],
      "metadata": {
        "colab": {
          "base_uri": "https://localhost:8080/"
        },
        "id": "RfIfnBHr8Geg",
        "outputId": "cfa22930-c5e8-4093-e176-93b9dc689ac6"
      },
      "execution_count": 10,
      "outputs": [
        {
          "output_type": "stream",
          "name": "stdout",
          "text": [
            "10\n"
          ]
        }
      ]
    },
    {
      "cell_type": "code",
      "source": [
        "print(num[0])\n",
        "print(num[-1])\n",
        "print(num[0] + num[-1])"
      ],
      "metadata": {
        "colab": {
          "base_uri": "https://localhost:8080/"
        },
        "id": "Flr56nAT85Xk",
        "outputId": "5331b1d4-69a3-4847-c216-1f428b538b2f"
      },
      "execution_count": 13,
      "outputs": [
        {
          "output_type": "stream",
          "name": "stdout",
          "text": [
            "12\n",
            "2\n",
            "10\n"
          ]
        }
      ]
    },
    {
      "cell_type": "code",
      "source": [
        "li1 = [1,2, 'a', 'b', [1,2,3]]\n",
        "print(li1[-1][0])"
      ],
      "metadata": {
        "colab": {
          "base_uri": "https://localhost:8080/"
        },
        "id": "9638bGs59Hce",
        "outputId": "5f187191-4dce-4023-b7df-f4ca87b43ef9"
      },
      "execution_count": 12,
      "outputs": [
        {
          "output_type": "stream",
          "name": "stdout",
          "text": [
            "1\n"
          ]
        }
      ]
    },
    {
      "cell_type": "code",
      "source": [
        "# 리스트에서의 슬라이싱\n",
        "num = [2,4,6,8,10]\n",
        "print(num[0:3]) # [start : stop (:step)] 스텝은 생략하면 1씩 증가. stop 미만 \n",
        "print(num[:3])  # 시작을 생략하면 처음부터 이고 끝을 생략하면 마지막까지 "
      ],
      "metadata": {
        "id": "DqQI94C-97kv"
      },
      "execution_count": null,
      "outputs": []
    },
    {
      "cell_type": "code",
      "source": [
        "a = [1,2,3]\n",
        "print(a * 3)"
      ],
      "metadata": {
        "colab": {
          "base_uri": "https://localhost:8080/"
        },
        "id": "6HHY9CqJ-aep",
        "outputId": "3209cb4e-ce7b-4ba8-ef54-1f02c0cc62d7"
      },
      "execution_count": 14,
      "outputs": [
        {
          "output_type": "stream",
          "name": "stdout",
          "text": [
            "[1, 2, 3, 1, 2, 3, 1, 2, 3]\n"
          ]
        }
      ]
    },
    {
      "cell_type": "code",
      "source": [
        "# 리스트의 길이 (개수)\n",
        "num = [2,4,6,8,10]\n",
        "print(len(num))"
      ],
      "metadata": {
        "id": "Yq4-vFDp_I5K"
      },
      "execution_count": null,
      "outputs": []
    },
    {
      "cell_type": "code",
      "source": [
        "# 리스트에서는 삽입/삭제/수정이 가능하다\n",
        "\n",
        "# 수정\n",
        "num = [2,4,6,8,10]\n",
        "num[0] = 0\n",
        "print(num)"
      ],
      "metadata": {
        "colab": {
          "base_uri": "https://localhost:8080/"
        },
        "id": "fcB2EGma_Oq6",
        "outputId": "c7a63c21-a0db-42a2-9534-00849c6b40d7"
      },
      "execution_count": 15,
      "outputs": [
        {
          "output_type": "stream",
          "name": "stdout",
          "text": [
            "[0, 4, 6, 8, 10]\n"
          ]
        }
      ]
    },
    {
      "cell_type": "code",
      "source": [
        "# 삭제\n",
        "num = [2,4,6,8,10]\n",
        "\n",
        "del num[0]\n",
        "print(num)\n",
        "\n",
        "del num[2:]  # 슬라이싱 기법을 사용하여 여러 요소 한번에 삭제\n",
        "print(num)\n",
        "\n",
        "num.pop()    # 마지막 항목을 하나씩 제거 \n",
        "print(num) \n",
        "\n",
        "num = [2,4,6,8,10]\n",
        "num.pop(0)    # 괄호 안을 생략하면 마지막 요소를 날리지만 지정하면 그 요소를 삭제 \n",
        "print(num)"
      ],
      "metadata": {
        "colab": {
          "base_uri": "https://localhost:8080/"
        },
        "id": "JcqclKDfA0L6",
        "outputId": "061b8ba5-ab3c-4a8c-bc71-ac1857fe33b6"
      },
      "execution_count": 20,
      "outputs": [
        {
          "output_type": "stream",
          "name": "stdout",
          "text": [
            "[4, 6, 8, 10]\n",
            "[4, 6]\n",
            "[4]\n"
          ]
        }
      ]
    },
    {
      "cell_type": "code",
      "source": [
        "# 리스트 삽입 append\n",
        "\n",
        "a = [1,2,3]\n",
        "print(a)\n",
        "\n",
        "a.append(4)\n",
        "print(a)"
      ],
      "metadata": {
        "colab": {
          "base_uri": "https://localhost:8080/"
        },
        "id": "rx4ipn-zA1RO",
        "outputId": "5e7264af-128c-4c8f-f5a2-244b025e7e9f"
      },
      "execution_count": 18,
      "outputs": [
        {
          "output_type": "stream",
          "name": "stdout",
          "text": [
            "[1, 2, 3]\n",
            "[1, 2, 3, 4]\n"
          ]
        }
      ]
    },
    {
      "cell_type": "markdown",
      "source": [
        "\n",
        "# 튜플 tuple\n",
        "###    1. 튜플은 () 를 사용하여 만든다. \n",
        " 2. 튜플은 자료형을 혼합하여 저장할수 도 있다. (파이썬 장점이자 단점)\n",
        " 3. 튜플은 인덱싱과 슬라이싱이 가능하다. \n",
        "### 4. 튜플은 삽입/삭제/수정이 불가능하다. (immutable)\n",
        "### 5. 튜플은 한개의 요소를 만들 때에는 괜히 ,를 넣는다."
      ],
      "metadata": {
        "id": "IwZWVb2JCxyw"
      }
    },
    {
      "cell_type": "code",
      "source": [
        "t1 = (1,2,3)\n",
        "print(type(t1))\n",
        "t2 = (1,2,'a','b')\n",
        "print(t2)"
      ],
      "metadata": {
        "colab": {
          "base_uri": "https://localhost:8080/"
        },
        "id": "yqVy8TyfBk5S",
        "outputId": "38297a6d-8533-4a52-d208-d4d9b3bbe331"
      },
      "execution_count": 22,
      "outputs": [
        {
          "output_type": "stream",
          "name": "stdout",
          "text": [
            "<class 'tuple'>\n",
            "(1, 2, 'a', 'b')\n"
          ]
        }
      ]
    },
    {
      "cell_type": "code",
      "source": [
        "# 튜플에서의 인덱싱\n",
        "t2 = (1,2,'a','b')\n",
        "\n",
        "print(t2[-1])\n",
        "\n",
        "# 튜플에서의 슬라이싱\n",
        "print(t2[:2]) # 마지막은 미만 처리 "
      ],
      "metadata": {
        "colab": {
          "base_uri": "https://localhost:8080/"
        },
        "id": "9iFipMB1DxiX",
        "outputId": "0e35a7f8-9320-4fe1-d8fd-b2589644d869"
      },
      "execution_count": 25,
      "outputs": [
        {
          "output_type": "stream",
          "name": "stdout",
          "text": [
            "b\n",
            "(1, 2)\n"
          ]
        }
      ]
    },
    {
      "cell_type": "code",
      "source": [
        "# 튜플에서는 삽입/삭제/수정이 불가능하다 immutable\n",
        "t2.append('c')"
      ],
      "metadata": {
        "colab": {
          "base_uri": "https://localhost:8080/",
          "height": 181
        },
        "id": "I3tC6W0qEkGt",
        "outputId": "5b6afb91-f251-4843-ca41-b05c74c54eb5"
      },
      "execution_count": 26,
      "outputs": [
        {
          "output_type": "error",
          "ename": "AttributeError",
          "evalue": "ignored",
          "traceback": [
            "\u001b[0;31m---------------------------------------------------------------------------\u001b[0m",
            "\u001b[0;31mAttributeError\u001b[0m                            Traceback (most recent call last)",
            "\u001b[0;32m<ipython-input-26-7e9029e435c7>\u001b[0m in \u001b[0;36m<module>\u001b[0;34m()\u001b[0m\n\u001b[1;32m      1\u001b[0m \u001b[0;31m# 튜플에서는 삽입/삭제/수정이 불가능하다 immutable\u001b[0m\u001b[0;34m\u001b[0m\u001b[0;34m\u001b[0m\u001b[0;34m\u001b[0m\u001b[0m\n\u001b[0;32m----> 2\u001b[0;31m \u001b[0mt2\u001b[0m\u001b[0;34m.\u001b[0m\u001b[0mappend\u001b[0m\u001b[0;34m(\u001b[0m\u001b[0;34m'c'\u001b[0m\u001b[0;34m)\u001b[0m\u001b[0;34m\u001b[0m\u001b[0;34m\u001b[0m\u001b[0m\n\u001b[0m",
            "\u001b[0;31mAttributeError\u001b[0m: 'tuple' object has no attribute 'append'"
          ]
        }
      ]
    },
    {
      "cell_type": "code",
      "source": [
        "t2[0] = 0"
      ],
      "metadata": {
        "colab": {
          "base_uri": "https://localhost:8080/",
          "height": 164
        },
        "id": "ysLpSJ5cElzH",
        "outputId": "c24be36d-eb4f-4fdf-c26b-f7b167fd65a1"
      },
      "execution_count": 27,
      "outputs": [
        {
          "output_type": "error",
          "ename": "TypeError",
          "evalue": "ignored",
          "traceback": [
            "\u001b[0;31m---------------------------------------------------------------------------\u001b[0m",
            "\u001b[0;31mTypeError\u001b[0m                                 Traceback (most recent call last)",
            "\u001b[0;32m<ipython-input-27-93a43191ebc8>\u001b[0m in \u001b[0;36m<module>\u001b[0;34m()\u001b[0m\n\u001b[0;32m----> 1\u001b[0;31m \u001b[0mt2\u001b[0m\u001b[0;34m[\u001b[0m\u001b[0;36m0\u001b[0m\u001b[0;34m]\u001b[0m \u001b[0;34m=\u001b[0m \u001b[0;36m0\u001b[0m\u001b[0;34m\u001b[0m\u001b[0;34m\u001b[0m\u001b[0m\n\u001b[0m",
            "\u001b[0;31mTypeError\u001b[0m: 'tuple' object does not support item assignment"
          ]
        }
      ]
    },
    {
      "cell_type": "code",
      "source": [
        "# 한개의 요소를 만들 때 쉼표를 넣는 것 \n",
        "list1 = [1]\n",
        "print(list1)\n",
        "print(len(list1)) # 리스트는 한 개도 괜찮음 \n",
        "\n",
        "tu = (1)\n",
        "print(tu)\n",
        "print(type(tu))\n",
        "\n",
        "tu1 = (1,)\n",
        "print(tu1)\n",
        "print(type(tu1))"
      ],
      "metadata": {
        "colab": {
          "base_uri": "https://localhost:8080/"
        },
        "id": "osUFubckFIAM",
        "outputId": "7bc12923-8ebd-4488-ebaf-88c2f7001128"
      },
      "execution_count": 31,
      "outputs": [
        {
          "output_type": "stream",
          "name": "stdout",
          "text": [
            "[1]\n",
            "1\n",
            "1\n",
            "<class 'int'>\n",
            "(1,)\n",
            "<class 'tuple'>\n"
          ]
        }
      ]
    },
    {
      "cell_type": "code",
      "source": [
        "bts = ['정국', '진', '뷔', 'RM', '지민', '제이홉', '슈가']\n",
        "print(bts)"
      ],
      "metadata": {
        "colab": {
          "base_uri": "https://localhost:8080/"
        },
        "id": "iDZy26hDJcka",
        "outputId": "ac111bd0-f63c-49a9-b033-6d978da3ebe9"
      },
      "execution_count": 33,
      "outputs": [
        {
          "output_type": "stream",
          "name": "stdout",
          "text": [
            "['정국', '진', '뷔', 'RM', '지민', '제이홉', '슈가']\n"
          ]
        }
      ]
    },
    {
      "cell_type": "code",
      "source": [
        "bts.append('길동')\n",
        "print(bts)\n",
        "bts.pop()"
      ],
      "metadata": {
        "colab": {
          "base_uri": "https://localhost:8080/"
        },
        "id": "r_ud9m1aKCa0",
        "outputId": "1030a658-97fc-4645-ecbe-1899fdcb9a2c"
      },
      "execution_count": 35,
      "outputs": [
        {
          "output_type": "stream",
          "name": "stdout",
          "text": [
            "['정국', '진', '뷔', 'RM', '지민', '제이홉', '슈가', '길동', '길동']\n"
          ]
        }
      ]
    },
    {
      "cell_type": "code",
      "source": [
        "nums = [1,2,3,4,5]\n",
        "print(f\"nums 리스트에서 최댓값은 {max(nums)} 최소값은 {min(nums)} 입니다\")"
      ],
      "metadata": {
        "colab": {
          "base_uri": "https://localhost:8080/"
        },
        "id": "3wm4K2QnKjUk",
        "outputId": "ea342ddf-5a6c-456d-c8d2-58e744a5f12f"
      },
      "execution_count": 63,
      "outputs": [
        {
          "output_type": "stream",
          "name": "stdout",
          "text": [
            "nums 리스트에서 최댓값은 5 최소값은 1 입니다\n"
          ]
        }
      ]
    },
    {
      "cell_type": "code",
      "source": [
        "nums = [1,2,3,4,5]\n",
        "avg = sum(nums) / len(nums)\n",
        "print(f\"nums 리스트에서 평균은 {avg} 입니다\")"
      ],
      "metadata": {
        "colab": {
          "base_uri": "https://localhost:8080/"
        },
        "id": "oTAvW04FL0dp",
        "outputId": "e90940a9-99e6-43bf-85bc-58d8fc7b942c"
      },
      "execution_count": 42,
      "outputs": [
        {
          "output_type": "stream",
          "name": "stdout",
          "text": [
            "nums 리스트에서 평균은 3.0 입니다\n"
          ]
        }
      ]
    },
    {
      "cell_type": "code",
      "source": [
        "price = ['2022', 100, 300, 200]\n",
        "print(price[1:])\n"
      ],
      "metadata": {
        "colab": {
          "base_uri": "https://localhost:8080/"
        },
        "id": "Qv7z8IXxMbd5",
        "outputId": "1356822a-5d2c-49e0-f351-6802727914bc"
      },
      "execution_count": 46,
      "outputs": [
        {
          "output_type": "stream",
          "name": "stdout",
          "text": [
            "[100, 300, 200]\n"
          ]
        }
      ]
    },
    {
      "cell_type": "code",
      "source": [
        "nums = [1,2,3,4,5,6,7,8,9,10]\n",
        "print(nums[1::2]) # 짝수만 출력 \n",
        "\n",
        "nums = [1,2,3,4,5,6,8,10]\n",
        "print(nums[::-1]) # 거꾸로 출력 "
      ],
      "metadata": {
        "colab": {
          "base_uri": "https://localhost:8080/"
        },
        "id": "Z9-XRrCEM9Wq",
        "outputId": "983ffaaf-9790-426d-84d9-59ea0cfe7fba"
      },
      "execution_count": 49,
      "outputs": [
        {
          "output_type": "stream",
          "name": "stdout",
          "text": [
            "[2, 4, 6]\n"
          ]
        }
      ]
    },
    {
      "cell_type": "code",
      "source": [
        "s = \"삼성 엘지 sk\"\n",
        " \n",
        "list1 = s.split(\" \")\n",
        "print(list1)"
      ],
      "metadata": {
        "colab": {
          "base_uri": "https://localhost:8080/"
        },
        "id": "B4U7GgerNTJS",
        "outputId": "c944543a-4122-4163-8530-0d023e2aa498"
      },
      "execution_count": 60,
      "outputs": [
        {
          "output_type": "stream",
          "name": "stdout",
          "text": [
            "['삼성', '엘지', 'sk']\n"
          ]
        }
      ]
    },
    {
      "cell_type": "markdown",
      "source": [
        "# 딕셔너리 Dict\n",
        "1. 딕셔너리는 {}를 사용하여 만든다.\n",
        "2. 딕셔너리는 자료형을 혼합하여 저장할수 도 있다. (파이썬 장점이자 단점)\n",
        "3. 딕셔너리는 인덱싱과 슬라이싱이 불가능하다.\n",
        "4. 딕셔너리에서는 삽입/삭제/수정이 가능하다. (mutable)\n",
        "### 5. 딕셔너리에서는 키값과 밸류값의 쌍으로 구성된다 (자바의 map, js 의 JSON) "
      ],
      "metadata": {
        "id": "HE5WF71uQI4k"
      }
    },
    {
      "cell_type": "code",
      "source": [
        "a = {1:'hello'}\n",
        "print(type(a))"
      ],
      "metadata": {
        "colab": {
          "base_uri": "https://localhost:8080/"
        },
        "id": "gYggbVUaRElN",
        "outputId": "1adc23cf-6936-4923-9716-d43c9b053660"
      },
      "execution_count": 64,
      "outputs": [
        {
          "output_type": "stream",
          "name": "stdout",
          "text": [
            "<class 'dict'>\n"
          ]
        }
      ]
    },
    {
      "cell_type": "code",
      "source": [
        "b = {'name':'Alice', 'age':21, 'gender': 'F'}\n",
        "print(b)\n",
        "# 딕셔너리는 순서가 없기 때문에 indexing 과 slicing 이 불가능하다. \n",
        "# 딕셔너리는 순서가 없기 때문에 입력 순서와 출력 순서가 다를 수 있다. \n",
        "\n",
        "print(b['name'])\n",
        "\n",
        "del b['age']      # 키갑으로 삭제\n",
        "print(b)\n",
        "\n",
        "b['age2'] = 27    # 키 값과 같이 삽입\n",
        "print(b)\n",
        "\n",
        "b['age2'] = 25    # 키 값으로 수정 \n",
        "print(b)\n"
      ],
      "metadata": {
        "colab": {
          "base_uri": "https://localhost:8080/"
        },
        "id": "H0rwYqwBRgbD",
        "outputId": "2fb41f7b-3281-48e6-95fe-0e0cd9e95757"
      },
      "execution_count": 78,
      "outputs": [
        {
          "output_type": "stream",
          "name": "stdout",
          "text": [
            "{'name': 'Alice', 'age': 21, 'gender': 'F'}\n",
            "Alice\n",
            "{'name': 'Alice', 'gender': 'F'}\n",
            "{'name': 'Alice', 'gender': 'F', 'age2': 27}\n",
            "{'name': 'Alice', 'gender': 'F', 'age2': 25}\n"
          ]
        }
      ]
    },
    {
      "cell_type": "code",
      "source": [
        "# 딕셔너리에 많이 사용되는 함수들\n",
        "\n",
        "# keys()\n",
        "b = {'name':'Alice', 'age':21, 'gender': 'F'}\n",
        "print(b.keys())\n",
        "print(b.values())"
      ],
      "metadata": {
        "colab": {
          "base_uri": "https://localhost:8080/"
        },
        "id": "JrdbDXGpSpeZ",
        "outputId": "7a5c3e66-5b93-4568-e880-ac2a43537f5d"
      },
      "execution_count": 80,
      "outputs": [
        {
          "output_type": "stream",
          "name": "stdout",
          "text": [
            "dict_keys(['name', 'age', 'gender'])\n",
            "dict_values(['Alice', 21, 'F'])\n"
          ]
        }
      ]
    },
    {
      "cell_type": "code",
      "source": [
        "c = b.items() # 키와 밸류를 쌍으로 반환\n",
        "print(c)"
      ],
      "metadata": {
        "colab": {
          "base_uri": "https://localhost:8080/"
        },
        "id": "XcwyxiIOnDBV",
        "outputId": "597d7719-f33b-4f6f-c314-b46d17bd50fa"
      },
      "execution_count": 82,
      "outputs": [
        {
          "output_type": "stream",
          "name": "stdout",
          "text": [
            "dict_items([('name', 'Alice'), ('age', 21), ('gender', 'F')])\n"
          ]
        }
      ]
    },
    {
      "cell_type": "markdown",
      "source": [
        "# 셋 Set\n",
        "1. 셋은 {}를 사용하여 만든다. -> 딕셔너리와 다르게 한 개씩 들어가있음 \n",
        "2. 셋은 자료형을 혼합하여 저장할수 도 있다. (파이썬 장점이자 단점)\n",
        "3. 셋은 인덱싱과 슬라이싱이 불가능하다.\n",
        "4. 셋은 삽입/삭제/수정이 가능하다. (mutable)\n",
        "### 5. 셋은 중복값을 허용하지 않는다.\n"
      ],
      "metadata": {
        "id": "uD32frbEnbvK"
      }
    },
    {
      "cell_type": "code",
      "source": [
        "s1 = {1,2,3}\n",
        "type(s1)\n",
        "\n",
        "s2 = {1,1,2,2,3,3,3,3}\n",
        "print(s2)\n",
        "\n",
        "s3 = set('hello')\n",
        "print(s3)"
      ],
      "metadata": {
        "colab": {
          "base_uri": "https://localhost:8080/"
        },
        "id": "FyohRSJZoAXE",
        "outputId": "4ce7dcce-d5a1-4eda-a842-079f5d75858f"
      },
      "execution_count": 86,
      "outputs": [
        {
          "output_type": "stream",
          "name": "stdout",
          "text": [
            "{1, 2, 3}\n",
            "{'l', 'h', 'o', 'e'}\n"
          ]
        }
      ]
    },
    {
      "cell_type": "code",
      "source": [
        "s2 = {1,1,2,2,3,'1','하나',3}\n",
        "l2 = list(s2)\n",
        "print(l2)"
      ],
      "metadata": {
        "colab": {
          "base_uri": "https://localhost:8080/"
        },
        "id": "u8a5DGfYpkAN",
        "outputId": "fbbafb19-891f-4f1a-ea82-05bbf3dc2826"
      },
      "execution_count": 100,
      "outputs": [
        {
          "output_type": "stream",
          "name": "stdout",
          "text": [
            "[1, 2, 3, '1', '하나']\n"
          ]
        }
      ]
    },
    {
      "cell_type": "code",
      "source": [
        "s2.remove(1)\n",
        "s2"
      ],
      "metadata": {
        "colab": {
          "base_uri": "https://localhost:8080/"
        },
        "id": "cc_5GC87qP-C",
        "outputId": "0bcd5c17-ec64-45a2-9784-8d5b4b8aaf14"
      },
      "execution_count": 102,
      "outputs": [
        {
          "output_type": "execute_result",
          "data": {
            "text/plain": [
              "{'1', 3, '하나'}"
            ]
          },
          "metadata": {},
          "execution_count": 102
        }
      ]
    },
    {
      "cell_type": "markdown",
      "source": [
        "# if 문 \n",
        "money = 2000\n",
        "cart = True\n"
      ],
      "metadata": {
        "id": "F_mgQjmkp9s5"
      }
    },
    {
      "cell_type": "code",
      "source": [
        "money = 2000\n",
        "cart = True\n",
        "\n",
        "if (money<4000): print('버스타라')\n",
        "else: print('택시타라')"
      ],
      "metadata": {
        "colab": {
          "base_uri": "https://localhost:8080/"
        },
        "id": "cFUjJc5uym42",
        "outputId": "7cc71080-f469-47fd-f130-28242675eb99"
      },
      "execution_count": 110,
      "outputs": [
        {
          "output_type": "stream",
          "name": "stdout",
          "text": [
            "버스타라\n"
          ]
        }
      ]
    },
    {
      "cell_type": "code",
      "source": [
        "1.in[1,2,3]\n",
        "4.in[1,2,3]"
      ],
      "metadata": {
        "colab": {
          "base_uri": "https://localhost:8080/"
        },
        "id": "3tSzPD5QrPnv",
        "outputId": "a9beb1b5-17ae-4556-a3ec-dea1344f4967"
      },
      "execution_count": 104,
      "outputs": [
        {
          "output_type": "execute_result",
          "data": {
            "text/plain": [
              "False"
            ]
          },
          "metadata": {},
          "execution_count": 104
        }
      ]
    },
    {
      "cell_type": "code",
      "source": [
        "pocket=['paper', 'phone', 'money']\n",
        "card=True\n",
        "\n",
        "if 'momey' in pocket:\n",
        "  print('택시 타라 ')\n",
        "else:\n",
        "  if card:\n",
        "    print('택시 타라')\n",
        "  else:\n",
        "    print('걸어가라')\n",
        "\n",
        "    # 분기가 여러개일 경우 if 문 안에 if 문을 중첩하여 사용할 수는 있지만 권장하지 않는다.\n",
        "    # 따라서 분기가 여러개일 경우  elif 를 사용한다 (else if)"
      ],
      "metadata": {
        "colab": {
          "base_uri": "https://localhost:8080/"
        },
        "id": "N_JeupFUy28z",
        "outputId": "d7dfc17f-4008-4ffe-deb7-214dfc0684fd"
      },
      "execution_count": 108,
      "outputs": [
        {
          "output_type": "stream",
          "name": "stdout",
          "text": [
            "택시 타라\n"
          ]
        }
      ]
    },
    {
      "cell_type": "code",
      "source": [
        "score = 100\n",
        "print(\"합격\")   if score >= 60    else print(\"불힙격\")\n",
        "# 조건부 표현식 : 한줄로 표현\n",
        "# 참              조건                거짓"
      ],
      "metadata": {
        "colab": {
          "base_uri": "https://localhost:8080/"
        },
        "id": "IS0-GLla1eRf",
        "outputId": "ae5fc1f2-4938-40c5-c4f4-127869da9b6d"
      },
      "execution_count": 112,
      "outputs": [
        {
          "output_type": "stream",
          "name": "stdout",
          "text": [
            "합격\n"
          ]
        }
      ]
    },
    {
      "cell_type": "code",
      "source": [
        "if int(input(\"숫자를 입력해주세요\")) %2 == 0: print(\"짝수\")\n",
        "else: print(\"홀수\")"
      ],
      "metadata": {
        "colab": {
          "base_uri": "https://localhost:8080/"
        },
        "id": "Lsw4euro2yoz",
        "outputId": "6ca1dc14-d18f-44c2-a74b-4d674b90ed6f"
      },
      "execution_count": 117,
      "outputs": [
        {
          "output_type": "stream",
          "name": "stdout",
          "text": [
            "숫자를 입력해주세요3\n",
            "홀수\n"
          ]
        }
      ]
    },
    {
      "cell_type": "code",
      "source": [
        "num = int(input(\"숫자를 입력해주세요\"))\n",
        "if num + 20 > 255 : print(255)\n",
        "else : print(num + 20)"
      ],
      "metadata": {
        "colab": {
          "base_uri": "https://localhost:8080/"
        },
        "id": "IM8gvMb75IhK",
        "outputId": "c863d293-3bc3-4da2-d314-f9bac9dc8dae"
      },
      "execution_count": 127,
      "outputs": [
        {
          "output_type": "stream",
          "name": "stdout",
          "text": [
            "숫자를 입력해주세요236\n",
            "255\n"
          ]
        }
      ]
    },
    {
      "cell_type": "code",
      "source": [
        "num = int(input(\"숫자를 입력해주세요\")) - 20\n",
        "if num < 0 : print(0)\n",
        "elif num > 255 : print(255)\n",
        "else : print(num)"
      ],
      "metadata": {
        "colab": {
          "base_uri": "https://localhost:8080/"
        },
        "id": "9V-OAJ1A60fu",
        "outputId": "82b2eb8a-c9ff-420f-c343-850fd09343d1"
      },
      "execution_count": 133,
      "outputs": [
        {
          "output_type": "stream",
          "name": "stdout",
          "text": [
            "숫자를 입력해주세요2\n",
            "0\n"
          ]
        }
      ]
    },
    {
      "cell_type": "code",
      "source": [
        "now = (input(\"시간을 입력해주세요\")).split(\":\")[1]\n",
        "if now == \"00\" : print(\"정각입니다\")\n",
        "else : print(\"정각이 아닙니다\")"
      ],
      "metadata": {
        "colab": {
          "base_uri": "https://localhost:8080/"
        },
        "id": "a3sY16k371BO",
        "outputId": "2da42715-42fd-4594-d06b-4b2cf22ff082"
      },
      "execution_count": 137,
      "outputs": [
        {
          "output_type": "stream",
          "name": "stdout",
          "text": [
            "시간을 입력해주세요20:01\n",
            "정각이 아닙니다\n"
          ]
        }
      ]
    },
    {
      "cell_type": "code",
      "source": [
        "now = (input(\"시간을 입력해주세요\"))\n",
        "if now[3:]== \"00\" : print(\"정각입니다\")\n",
        "else : print(\"정각이 아닙니다\")"
      ],
      "metadata": {
        "colab": {
          "base_uri": "https://localhost:8080/"
        },
        "id": "8GDQ7tU-8Yg_",
        "outputId": "e04ac172-2cd0-4525-d9c9-a2f6501db63a"
      },
      "execution_count": 161,
      "outputs": [
        {
          "output_type": "stream",
          "name": "stdout",
          "text": [
            "시간을 입력해주세요34:00\n",
            "정각입니다\n"
          ]
        }
      ]
    },
    {
      "cell_type": "code",
      "source": [
        "num1 = int(input(\"Enter First number : \"))\n",
        "num2 = int(input(\"Enter Second number : \"))\n",
        "if (num1 > num2): print(f\"{num2} {num1}\")\n",
        "else : print(num1, num2)"
      ],
      "metadata": {
        "colab": {
          "base_uri": "https://localhost:8080/"
        },
        "id": "BX2JXFPv_idJ",
        "outputId": "a6da11df-715c-41b4-fa14-13e05a1472ee"
      },
      "execution_count": 166,
      "outputs": [
        {
          "output_type": "stream",
          "name": "stdout",
          "text": [
            "Enter First number : 7\n",
            "Enter Second number : 3\n",
            "3 7\n"
          ]
        }
      ]
    },
    {
      "cell_type": "code",
      "source": [
        "num = int(input(\"Enter a number is under 20 : \"))\n",
        "if (num >= 20): print(\"Too high\")\n",
        "else : print(\"Thank you\")"
      ],
      "metadata": {
        "colab": {
          "base_uri": "https://localhost:8080/"
        },
        "id": "Vn2Ogf8cBVxS",
        "outputId": "f0658713-6137-4f94-90d8-4d31169037a5"
      },
      "execution_count": 170,
      "outputs": [
        {
          "output_type": "stream",
          "name": "stdout",
          "text": [
            "Enter a number is under 20 : 2\n",
            "Thank you\n"
          ]
        }
      ]
    },
    {
      "cell_type": "code",
      "source": [
        "color = input(\"What is your favourite color?\")\n",
        "if (color == \"red\" or color == \"RED\" or color == \"Red\") : print(\"I like red too\")\n",
        "else: print(f\"I don't like {color}. I prefer red\")"
      ],
      "metadata": {
        "colab": {
          "base_uri": "https://localhost:8080/"
        },
        "id": "FlQ6T6wtCLpC",
        "outputId": "346a39c9-c805-4968-b6e0-4d413999013e"
      },
      "execution_count": 180,
      "outputs": [
        {
          "output_type": "stream",
          "name": "stdout",
          "text": [
            "What is your favourite color?pink\n",
            "I don't like pink. I prefer red\n"
          ]
        }
      ]
    },
    {
      "cell_type": "code",
      "source": [
        "color = input(\"What is your favourite color?\")\n",
        "red =['red', \"Red\", 'RED']\n",
        "if color in red:\n",
        "  print(\"I like red too\")\n",
        "else : print(f\"I don't like {color}. I prefer red\")"
      ],
      "metadata": {
        "colab": {
          "base_uri": "https://localhost:8080/"
        },
        "id": "Q0eqZ2iED21Y",
        "outputId": "94ad16ca-41c7-4bbc-ac7d-91eb3fe86853"
      },
      "execution_count": 181,
      "outputs": [
        {
          "output_type": "stream",
          "name": "stdout",
          "text": [
            "What is your favourite color?red\n",
            "I like red too\n"
          ]
        }
      ]
    },
    {
      "cell_type": "code",
      "source": [
        "age = int(input(\"How old are you??? : \"))\n",
        "if age >= 18 : print(\"You can vote\")\n",
        "elif age == 17:  print(\"You can learn to drive\")\n",
        "elif age == 16 : print(\"You can buy a lottery ticket\")\n",
        "else : print(\"You can go Trick-or-Treating\")"
      ],
      "metadata": {
        "colab": {
          "base_uri": "https://localhost:8080/"
        },
        "id": "d05tEIRWEUqf",
        "outputId": "0e4022ff-3f1c-48a2-8a2d-640f27b3f542"
      },
      "execution_count": 186,
      "outputs": [
        {
          "output_type": "stream",
          "name": "stdout",
          "text": [
            "How old are you??? : 16\n",
            "You can buy a lottery ticket\n"
          ]
        }
      ]
    },
    {
      "cell_type": "code",
      "source": [
        "num = int(input(\"Enter 1, 2, or 3 : \"))\n",
        "if num == 1 : print(\"Thank you\")\n",
        "elif num == 2 : print(\"Well done\")\n",
        "elif num == 3 : print(\"Correct\")\n",
        "else : print(\"Error message\")"
      ],
      "metadata": {
        "colab": {
          "base_uri": "https://localhost:8080/"
        },
        "id": "0mS2HaKHGMQ_",
        "outputId": "59f5785c-7afc-4c3e-9328-e39b9acba11d"
      },
      "execution_count": 193,
      "outputs": [
        {
          "output_type": "stream",
          "name": "stdout",
          "text": [
            "Enter 1, 2, or 3 : 10\n",
            "Error message\n"
          ]
        }
      ]
    },
    {
      "cell_type": "code",
      "source": [
        "name = input(\"Enter your first name in English : \")\n",
        "print(len(name))"
      ],
      "metadata": {
        "colab": {
          "base_uri": "https://localhost:8080/"
        },
        "id": "0FO4-8oHHLDm",
        "outputId": "c34758f8-ec3a-4c76-ff6d-fa52eedba157"
      },
      "execution_count": 195,
      "outputs": [
        {
          "output_type": "stream",
          "name": "stdout",
          "text": [
            "Enter your first name in English : seoyoung\n",
            "8\n"
          ]
        }
      ]
    },
    {
      "cell_type": "code",
      "source": [
        "word = input(\"Enter any word : \").upper()\n",
        "print(word)"
      ],
      "metadata": {
        "colab": {
          "base_uri": "https://localhost:8080/"
        },
        "id": "h4HkGYKVHkjT",
        "outputId": "cbf2efd5-ee2b-4daa-ce8a-8a2a8a7b7a5d"
      },
      "execution_count": 198,
      "outputs": [
        {
          "output_type": "stream",
          "name": "stdout",
          "text": [
            "Enter any word : seoyoung\n",
            "SEOYOUNG\n"
          ]
        }
      ]
    },
    {
      "cell_type": "code",
      "source": [
        "del input"
      ],
      "metadata": {
        "id": "bbYO_9bIJpTE"
      },
      "execution_count": 202,
      "outputs": []
    },
    {
      "cell_type": "code",
      "source": [
        "word = input(\"Enter any words : \").lower()\n",
        "\n",
        "# boy -> oybay | ay -> yaway\n",
        "\n",
        "vowel =['a', \"i\", 'o' 'u' 'e']\n",
        "if word[0] in vowel : print(word[1:] + word[0:1] + \"way\")\n",
        "else : print(word[1:] + word[0:1] + \"ay\")"
      ],
      "metadata": {
        "colab": {
          "base_uri": "https://localhost:8080/"
        },
        "id": "3N3oC1W3IcF5",
        "outputId": "b889c1d5-3bf6-456e-d8bb-fc56242e06e6"
      },
      "execution_count": 213,
      "outputs": [
        {
          "output_type": "stream",
          "name": "stdout",
          "text": [
            "Enter any words : ay\n",
            "yaway\n"
          ]
        }
      ]
    }
  ]
}