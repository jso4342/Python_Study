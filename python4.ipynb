{
 "metadata": {
  "language_info": {
   "codemirror_mode": {
    "name": "ipython",
    "version": 3
   },
   "file_extension": ".py",
   "mimetype": "text/x-python",
   "name": "python",
   "nbconvert_exporter": "python",
   "pygments_lexer": "ipython3",
   "version": "3.9.7-final"
  },
  "orig_nbformat": 2,
  "kernelspec": {
   "name": "python3",
   "display_name": "Python 3.9.7 64-bit ('base': conda)",
   "metadata": {
    "interpreter": {
     "hash": "ddd808cbb558d02e2c840f7850dc466d0809bd63360b38e455c980a2fcdccc6d"
    }
   }
  }
 },
 "nbformat": 4,
 "nbformat_minor": 2,
 "cells": [
  {
   "cell_type": "code",
   "execution_count": null,
   "metadata": {},
   "outputs": [],
   "source": [
    "# 파일 읽고 쓰기 \n",
    "\n",
    "# 파일 생성 \n",
    "f = open(\"새 파일.txt\", \"w\")\n",
    "f.close()   # 항상 사용 후 닫아준다. \n",
    "\n",
    "# 파일객체 = open(\"파일명\", \"열기모드\")\n",
    "# 열기 모드 : w - 쓰기, r - 읽기, a - 추가모드 "
   ]
  },
  {
   "cell_type": "code",
   "execution_count": 4,
   "metadata": {},
   "outputs": [],
   "source": [
    "f = open(\"exam.txt\", \"w\")\n",
    "\n",
    "for i in range(1, 11): \n",
    "    f.write(f\"{i}번째 줄입니다. \\n\")\n",
    "\n",
    "f.close()"
   ]
  },
  {
   "cell_type": "code",
   "execution_count": 5,
   "metadata": {},
   "outputs": [
    {
     "output_type": "stream",
     "name": "stdout",
     "text": [
      "1번째 줄입니다. \n\n"
     ]
    }
   ],
   "source": [
    "# 파일을 열어서 데이터 읽어오고 닫기 \n",
    "\n",
    "f = open(\"exam.txt\", \"r\")\n",
    "\n",
    "line = f.readline()\n",
    "print(line)\n",
    "\n",
    "f.close()"
   ]
  },
  {
   "cell_type": "code",
   "execution_count": 7,
   "metadata": {},
   "outputs": [
    {
     "output_type": "stream",
     "name": "stdout",
     "text": [
      "1번째 줄입니다. \n\n2번째 줄입니다. \n\n3번째 줄입니다. \n\n4번째 줄입니다. \n\n5번째 줄입니다. \n\n6번째 줄입니다. \n\n7번째 줄입니다. \n\n8번째 줄입니다. \n\n9번째 줄입니다. \n\n10번째 줄입니다. \n\n"
     ]
    }
   ],
   "source": [
    "# 모든 줄 다 읽어오기 \n",
    "\n",
    "f = open(\"exam.txt\", \"r\")\n",
    "\n",
    "while True:\n",
    "    line = f.readline()\n",
    "    if not line: break\n",
    "    print(line)\n",
    "\n",
    "f.close()"
   ]
  },
  {
   "cell_type": "code",
   "execution_count": 8,
   "metadata": {},
   "outputs": [],
   "source": [
    "# f = open(\"exam2.txt\", \"w\")\n",
    "# 이런 식으로 만들면 항상 f.close() 로 닫아줘야했다 \n",
    "\n",
    "with open(\"exam2.txt\", \"w\") as f: \n",
    "    f.write(\"Hi there....\")\n",
    "\n",
    "# with 문을 사용하면 close를 쓰지 않아도 된다 \n",
    "# with 문을 벗어나는 순간 객체가 자동으로 close 된다 \n",
    "# 상기 내용은 파일 입출력의 가장 기본적인 내용이다 \n",
    "# 실제 데이터 분석시에는 pandas를 사용하여 엑셀, 텍스트 등을 읽어오고 \n",
    "# 저장하는 방식을 주로 사용하게 된다 "
   ]
  },
  {
   "cell_type": "code",
   "execution_count": 9,
   "metadata": {},
   "outputs": [],
   "source": [
    "# 모듈 module \n",
    "\n",
    "# 모듈을 직접 만들어서 사용할 수는 있지만 대부분 모듈을 가져다가 사용하게 된다. \n",
    "# 하지만 직접 만들어보면 이해를 높힐 수 있으므로 제작해보자\n",
    "\n",
    "# 모듈은 함수, 변수 등을 모아놓은 파일이다. 모듈은 다른 파이썬 파일에서 불러와서 사용할 수 있게 만든 파이썬 파일이다 \n",
    "# 파이썬 프로그래밍을 할 때 굉장히 많이 모듈을 불러와 사용하게 된다. \n",
    "\n",
    "# 라이브러리는 모듈들의 모음이다.\n",
    "# 함수 / 변수 / 클래스 -> 모듈 (.py) -> 라이브러리 "
   ]
  },
  {
   "cell_type": "code",
   "execution_count": 25,
   "metadata": {},
   "outputs": [
    {
     "output_type": "error",
     "ename": "AttributeError",
     "evalue": "module 'module1' has no attribute 'add'",
     "traceback": [
      "\u001b[0;31m---------------------------------------------------------------------------\u001b[0m",
      "\u001b[0;31mAttributeError\u001b[0m                            Traceback (most recent call last)",
      "\u001b[0;32m/var/folders/_h/xyn5q6g14p35j6hv0n6lx8kw0000gn/T/ipykernel_1765/1230316962.py\u001b[0m in \u001b[0;36m<module>\u001b[0;34m\u001b[0m\n\u001b[1;32m      1\u001b[0m \u001b[0;32mimport\u001b[0m \u001b[0mmodule1\u001b[0m  \u001b[0;31m# 모듈 읽어오기\u001b[0m\u001b[0;34m\u001b[0m\u001b[0;34m\u001b[0m\u001b[0m\n\u001b[1;32m      2\u001b[0m \u001b[0;34m\u001b[0m\u001b[0m\n\u001b[0;32m----> 3\u001b[0;31m \u001b[0mprint\u001b[0m\u001b[0;34m(\u001b[0m\u001b[0mmodule1\u001b[0m\u001b[0;34m.\u001b[0m\u001b[0madd\u001b[0m\u001b[0;34m(\u001b[0m\u001b[0;36m3\u001b[0m\u001b[0;34m,\u001b[0m\u001b[0;36m4\u001b[0m\u001b[0;34m)\u001b[0m\u001b[0;34m)\u001b[0m\u001b[0;34m\u001b[0m\u001b[0;34m\u001b[0m\u001b[0m\n\u001b[0m\u001b[1;32m      4\u001b[0m \u001b[0mprint\u001b[0m\u001b[0;34m(\u001b[0m\u001b[0mmodule1\u001b[0m\u001b[0;34m.\u001b[0m\u001b[0msub\u001b[0m\u001b[0;34m(\u001b[0m\u001b[0;36m4\u001b[0m\u001b[0;34m,\u001b[0m\u001b[0;36m2\u001b[0m\u001b[0;34m)\u001b[0m\u001b[0;34m)\u001b[0m\u001b[0;34m\u001b[0m\u001b[0;34m\u001b[0m\u001b[0m\n\u001b[1;32m      5\u001b[0m \u001b[0;34m\u001b[0m\u001b[0m\n",
      "\u001b[0;31mAttributeError\u001b[0m: module 'module1' has no attribute 'add'"
     ]
    }
   ],
   "source": [
    "import module1  # 모듈 읽어오기 \n",
    "\n",
    "print(module1.add(3,4))\n",
    "print(module1.sub(4,2))\n",
    "\n",
    "# import module1 <- 모듈에 있는 함수를 가져다 쓸 때마다 '모듈명.함수명' 을 써야하는데 귀찮음"
   ]
  },
  {
   "cell_type": "code",
   "execution_count": 17,
   "metadata": {},
   "outputs": [
    {
     "output_type": "error",
     "ename": "ImportError",
     "evalue": "cannot import name 'add' from 'module1' (/Users/macintoshhd/Desktop/aigb_0900_jsy/Python/module1.py)",
     "traceback": [
      "\u001b[0;31m---------------------------------------------------------------------------\u001b[0m",
      "\u001b[0;31mImportError\u001b[0m                               Traceback (most recent call last)",
      "\u001b[0;32m/var/folders/_h/xyn5q6g14p35j6hv0n6lx8kw0000gn/T/ipykernel_1765/3717108857.py\u001b[0m in \u001b[0;36m<module>\u001b[0;34m\u001b[0m\n\u001b[0;32m----> 1\u001b[0;31m \u001b[0;32mfrom\u001b[0m \u001b[0mmodule1\u001b[0m \u001b[0;32mimport\u001b[0m \u001b[0madd\u001b[0m         \u001b[0;31m# from 모듈명 import 함수 이름\u001b[0m\u001b[0;34m\u001b[0m\u001b[0;34m\u001b[0m\u001b[0m\n\u001b[0m\u001b[1;32m      2\u001b[0m \u001b[0madd\u001b[0m\u001b[0;34m(\u001b[0m\u001b[0;36m3\u001b[0m\u001b[0;34m,\u001b[0m\u001b[0;36m5\u001b[0m\u001b[0;34m)\u001b[0m\u001b[0;34m\u001b[0m\u001b[0;34m\u001b[0m\u001b[0m\n",
      "\u001b[0;31mImportError\u001b[0m: cannot import name 'add' from 'module1' (/Users/macintoshhd/Desktop/aigb_0900_jsy/Python/module1.py)"
     ]
    }
   ],
   "source": [
    "from module1 import add         # from 모듈명 import 함수 이름\n",
    "add(3,5)"
   ]
  },
  {
   "cell_type": "code",
   "execution_count": null,
   "metadata": {},
   "outputs": [],
   "source": []
  }
 ]
}