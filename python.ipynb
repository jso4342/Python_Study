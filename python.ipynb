{
  "nbformat": 4,
  "nbformat_minor": 0,
  "metadata": {
    "colab": {
      "name": "Untitled0.ipynb",
      "provenance": [],
      "authorship_tag": "ABX9TyPy441rCv20kpE/paH2dEm3",
      "include_colab_link": true
    },
    "kernelspec": {
      "name": "python3",
      "display_name": "Python 3"
    },
    "language_info": {
      "name": "python"
    }
  },
  "cells": [
    {
      "cell_type": "markdown",
      "metadata": {
        "id": "view-in-github",
        "colab_type": "text"
      },
      "source": [
        "<a href=\"https://colab.research.google.com/github/jso4342/pythonTest/blob/main/python.ipynb\" target=\"_parent\"><img src=\"https://colab.research.google.com/assets/colab-badge.svg\" alt=\"Open In Colab\"/></a>"
      ]
    },
    {
      "cell_type": "markdown",
      "source": [
        "* 컴파일러 : 자바 C C++  \n",
        "\n",
        "* 인터프리터 : 파이썬, R \n",
        "\n",
        "\n",
        "\n",
        "파이썬은 영어와 문법이 아주 유사하며 사람이 이해하기 쉽다.\n",
        "\n",
        "많은 개발자가 참여하여 무료로 공유되는 코드가 많다.\n",
        "\n",
        "\n",
        "창시자 귀도반로썸(1956 ~ ), 네덜란드 구글 -> 드롭박스(클라우드 원조) -> 마이크로소프트(2020)  \n",
        "\n",
        "1. 사용이 쉽다\n",
        "2. 강력하다 \n",
        "3. 객체지향언어 \n",
        "4. 어디에서나 실행된다\n",
        "5. 사용자가 많다 \n",
        "6. 무료이다 \n"
      ],
      "metadata": {
        "id": "JYFbclE1TBQ6"
      }
    },
    {
      "cell_type": "markdown",
      "source": [
        "#개발 환경 - 온라인 개발 (Online IDE) \n",
        "\n",
        "***Colab, Repl, 구름 IDE"
      ],
      "metadata": {
        "id": "t-m2EjjWU3t2"
      }
    },
    {
      "cell_type": "markdown",
      "source": [
        "#개발환경 - 오프라인 Offline IDE \n",
        "\n",
        "FM \n",
        "\n",
        "파이썬 -> 파이참 (ide)\n",
        "\n",
        "수업\n",
        "\n",
        "Anaconda = 파이썬 + Jypyter Note(ide) + a + b + c"
      ],
      "metadata": {
        "id": "HPHvgsrccFLD"
      }
    },
    {
      "cell_type": "code",
      "execution_count": null,
      "metadata": {
        "colab": {
          "base_uri": "https://localhost:8080/"
        },
        "id": "1EtY0xrSAF7M",
        "outputId": "090a9378-07be-40ae-e1a1-a7bcd8dcc9aa"
      },
      "outputs": [
        {
          "output_type": "stream",
          "name": "stdout",
          "text": [
            "Hello World\n"
          ]
        }
      ],
      "source": [
        "print(\"Hello World\")"
      ]
    },
    {
      "cell_type": "markdown",
      "source": [
        ""
      ],
      "metadata": {
        "id": "EHNAGuiaTOS9"
      }
    }
  ]
}