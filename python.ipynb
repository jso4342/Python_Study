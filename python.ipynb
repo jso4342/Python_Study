{
  "nbformat": 4,
  "nbformat_minor": 0,
  "metadata": {
    "colab": {
      "name": "Untitled0.ipynb",
      "provenance": [],
      "authorship_tag": "ABX9TyP+NBc2MB+l0HHz+v4fSunr",
      "include_colab_link": true
    },
    "kernelspec": {
      "name": "python3",
      "display_name": "Python 3"
    },
    "language_info": {
      "name": "python"
    }
  },
  "cells": [
    {
      "cell_type": "markdown",
      "metadata": {
        "id": "view-in-github",
        "colab_type": "text"
      },
      "source": [
        "<a href=\"https://colab.research.google.com/github/jso4342/pythonTest/blob/main/python.ipynb\" target=\"_parent\"><img src=\"https://colab.research.google.com/assets/colab-badge.svg\" alt=\"Open In Colab\"/></a>"
      ]
    },
    {
      "cell_type": "markdown",
      "source": [
        "* 컴파일러 : 자바 C C++  \n",
        "\n",
        "* 인터프리터 : 파이썬, R \n",
        "\n",
        "\n",
        "\n",
        "파이썬은 영어와 문법이 아주 유사하며 사람이 이해하기 쉽다.\n",
        "\n",
        "많은 개발자가 참여하여 무료로 공유되는 코드가 많다.\n",
        "\n",
        "\n",
        "창시자 귀도반로썸(1956 ~ ), 네덜란드 구글 -> 드롭박스(클라우드 원조) -> 마이크로소프트(2020)  \n",
        "\n",
        "1. 사용이 쉽다\n",
        "2. 강력하다 \n",
        "3. 객체지향언어 \n",
        "4. 어디에서나 실행된다\n",
        "5. 사용자가 많다 \n",
        "6. 무료이다 \n"
      ],
      "metadata": {
        "id": "JYFbclE1TBQ6"
      }
    },
    {
      "cell_type": "markdown",
      "source": [
        "#개발 환경 - 온라인 개발 (Online IDE) \n",
        "\n",
        "***Colab, Repl, 구름 IDE"
      ],
      "metadata": {
        "id": "t-m2EjjWU3t2"
      }
    },
    {
      "cell_type": "markdown",
      "source": [
        "#개발환경 - 오프라인 Offline IDE \n",
        "\n",
        "FM \n",
        "\n",
        "파이썬 -> 파이참 (ide)\n",
        "\n",
        "수업\n",
        "\n",
        "Anaconda = 파이썬 + Jypyter Note(ide) + a + b + c"
      ],
      "metadata": {
        "id": "HPHvgsrccFLD"
      }
    },
    {
      "cell_type": "code",
      "execution_count": null,
      "metadata": {
        "colab": {
          "base_uri": "https://localhost:8080/"
        },
        "id": "1EtY0xrSAF7M",
        "outputId": "090a9378-07be-40ae-e1a1-a7bcd8dcc9aa"
      },
      "outputs": [
        {
          "output_type": "stream",
          "name": "stdout",
          "text": [
            "Hello World\n"
          ]
        }
      ],
      "source": [
        "print(\"Hello World\")"
      ]
    },
    {
      "cell_type": "code",
      "source": [
        "# 기초 - 주석    Comment\n",
        "\n",
        "# 자바에서의 주석 // 처럼 #를 주석 기호로 사용한다.\n",
        "\"\"\" \n",
        "여러 줄의 경우는 이렇게 사용한다 > 여러줄 주석의 경우 인식을 하나, 아무것도 하지 않음 : docstring  \n",
        "\"\"\" \n",
        "\n",
        "# 변수          Variable\n",
        "# 자바나 씨 등의 언어와 달리 변수를 선언할 때 형을 정해주지 않는다.\n",
        "# 선언과 동시에 파이썬이 데이터를 알아서 변수인지 정수인지 문자열인지 판단을 하여 저장한다.\n",
        "age = 21\n",
        "name = \"홍길동\"\n",
        "\n",
        "type(name)\n",
        "#type(age)\n",
        "age, name = 21, \"장서영\"\n",
        "\n",
        "# 변수 명 선언 방법\n",
        "# 문자 숫자 _ 만 사용 \n",
        "# 하지만 숫자로 시작할 수는 없다 \n",
        "# 얘약어는 사용할 수 없다 print, class...\n",
        "# 대소문자를 구분한다 \n",
        "# 변수명은 영어로만 만들자 (한글로 만들 수는 있음)"
      ],
      "metadata": {
        "colab": {
          "base_uri": "https://localhost:8080/"
        },
        "id": "0l-fn6ZLii1A",
        "outputId": "ce1ef63a-e998-424a-f86b-ac8b3212f28e"
      },
      "execution_count": 5,
      "outputs": [
        {
          "output_type": "execute_result",
          "data": {
            "text/plain": [
              "str"
            ]
          },
          "metadata": {},
          "execution_count": 5
        }
      ]
    },
    {
      "cell_type": "code",
      "source": [
        "korea = 63000\n",
        "total = korea * 100\n",
        "print(total)\n",
        "print(\"\\\"가을이었다\\\"\")"
      ],
      "metadata": {
        "colab": {
          "base_uri": "https://localhost:8080/"
        },
        "id": "3sq-0L_ToIOd",
        "outputId": "c68bf582-4262-4a33-9985-fbefed13d86f"
      },
      "execution_count": 8,
      "outputs": [
        {
          "output_type": "stream",
          "name": "stdout",
          "text": [
            "6300000\n",
            "\"가을이었다\"\n"
          ]
        }
      ]
    },
    {
      "cell_type": "code",
      "source": [
        "# 기본 자료형 Data Type \n",
        "# 숫자형\n",
        "a = 3\n",
        "b = 3.15\n",
        "c = -2\n",
        "\n",
        "print(3.14-3)\n",
        "print(43 / 3) # 나누기\n",
        "print (43 // 4) # 몫\n",
        "print(43 % 4) # 나머지 연산자 : 나머지 연산자로 홀수, 짝수, 배수를 확일할 수 있다 \n",
        "\n",
        "# boolean -> True or False      주의) true false 와는 다르다 \n",
        "print(1 == 1)"
      ],
      "metadata": {
        "colab": {
          "base_uri": "https://localhost:8080/"
        },
        "id": "PYMAjLGAtETD",
        "outputId": "a0961e02-32b1-4f80-85ad-6118e9ab4567"
      },
      "execution_count": 12,
      "outputs": [
        {
          "output_type": "stream",
          "name": "stdout",
          "text": [
            "0.14000000000000012\n",
            "14.333333333333334\n",
            "10\n",
            "3\n",
            "True\n"
          ]
        }
      ]
    },
    {
      "cell_type": "code",
      "source": [
        "# 문자열 \n",
        "name1 = \"Baek\" # 파이썬에서는 큰 따옴표와 \n",
        "name = \"do\"    # 작은 따옴표 모두 문자열을 나타낸다 \n",
        "age = \"30\"     # 따옴표 안에 있으면 문자로 인식 \n",
        "\n",
        "# 문자열에서의 인덱싱 - 몇 번째 글자 하나 \n",
        "words = \"B loveD\" # 어떤 문자열에서 글자 하나만 추출 -> v\n",
        "\n",
        "print(words[4]) \n",
        "\n",
        "# 파이썬에서의 독특한 인덱싱 방법 : 마지막 한 글자만 추출 \n",
        "print(words[-1]) # -3 -4 이런식으로 뒤에서 n 번 째 글자도 추출 가능  \n",
        "\n",
        "# 문자열에서의 슬라이싱 - 글자 여러개 \n",
        "words[2:6]          # [시작 : 끝(미만)]    [시작:끝(미만):증가]  [start:stop:step]\n",
        "words[2:6:1]        # step 은 생략 가능.  생략하면 1\n",
        "print(words[:6:1])  # 시작을 생략하면 0부터 시작\n",
        "print(words[2::1])  # 끝을 생략하면 마지막까지\n",
        "print(words[::2])   # 하나씩 건너 띄워 인쇄\n",
        "\n",
        "# 문자열에서의 인덱싱과 슬라이싱 기법은 그대로 리스트와 튜플에서도 동일하게 사용된다 "
      ],
      "metadata": {
        "colab": {
          "base_uri": "https://localhost:8080/"
        },
        "id": "kqdtJYuYvLIB",
        "outputId": "dfd502e1-4876-4ae0-c1b1-51ec95245292"
      },
      "execution_count": 21,
      "outputs": [
        {
          "output_type": "stream",
          "name": "stdout",
          "text": [
            "v\n",
            "D\n",
            "B love\n",
            "loveD\n",
            "BlvD\n"
          ]
        }
      ]
    },
    {
      "cell_type": "code",
      "source": [
        "words=\"LOVE\"\n",
        "print(words[::-1])"
      ],
      "metadata": {
        "colab": {
          "base_uri": "https://localhost:8080/"
        },
        "id": "dqrpfC2uy7IW",
        "outputId": "0fc91d9f-34b9-47ce-d8c0-e7e9034fad07"
      },
      "execution_count": 20,
      "outputs": [
        {
          "output_type": "stream",
          "name": "stdout",
          "text": [
            "EVOL\n"
          ]
        }
      ]
    },
    {
      "cell_type": "code",
      "source": [
        "string=\"He is good. All the time\"\n",
        "print(string[-4:])"
      ],
      "metadata": {
        "colab": {
          "base_uri": "https://localhost:8080/"
        },
        "id": "XSOsmeL-pE-W",
        "outputId": "668ca260-ed51-4cc1-b7e2-0603a9c36c3b"
      },
      "execution_count": 40,
      "outputs": [
        {
          "output_type": "stream",
          "name": "stdout",
          "text": [
            "time\n"
          ]
        }
      ]
    },
    {
      "cell_type": "code",
      "source": [
        "string=\"He is good. All the time\"\n",
        "print(string)\n",
        "who = \"He\"\n",
        "print(who,\"is good. All the time\")\n",
        "print(\"%s is good. All the time\" % who)\n",
        "print(\"%s is good. All the time\" % \"He\")\n",
        "print(\"{} is good. All the time\" .format(who))\n",
        "print(f'{who} is good. All the time') # 이게 제일 일반적이고 좋은 방법 "
      ],
      "metadata": {
        "colab": {
          "base_uri": "https://localhost:8080/"
        },
        "id": "VpDUZ7hY007a",
        "outputId": "1a8ad9dd-77b2-48c0-8c87-5a8ee4afd62d"
      },
      "execution_count": 39,
      "outputs": [
        {
          "output_type": "stream",
          "name": "stdout",
          "text": [
            "He is good. All the time\n",
            "He is good. All the time\n",
            "He is good. All the time\n",
            "He is good. All the time\n",
            "He is good. All the time\n",
            "He is good. All the time\n"
          ]
        }
      ]
    },
    {
      "cell_type": "code",
      "source": [
        "name = \"Seoyoung\"\n",
        "age = 27\n",
        "\n",
        "print(\"나의 이름은\",name,\"이고 나이는\",age,\"살 입니다.\")\n",
        "print(f'나의 이름은 {name}이고 나이는 {age}살 입니다.')\n",
        "print(\"나의 이름은 %s이고 나이는 %s살 입니다.\" %(name, age))\n",
        "print(\"나의 이름은 {}이고 나이는 {}살 입니다.\" .format(name, age))"
      ],
      "metadata": {
        "colab": {
          "base_uri": "https://localhost:8080/"
        },
        "id": "pgVVON2t2ENO",
        "outputId": "dc164bfe-f12e-4d52-c1d8-45d9943daa4e"
      },
      "execution_count": 60,
      "outputs": [
        {
          "output_type": "stream",
          "name": "stdout",
          "text": [
            "나의 이름은 Seoyoung 이고 나이는 27 살 입니다.\n",
            "나의 이름은 Seoyoung이고 나이는 27살 입니다.\n",
            "나의 이름은 Seoyoung이고 나이는 27살 입니다.\n",
            "나의 이름은 Seoyoung이고 나이는 27살 입니다.\n"
          ]
        }
      ]
    }
  ]
}