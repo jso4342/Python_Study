{
 "metadata": {
  "language_info": {
   "codemirror_mode": {
    "name": "ipython",
    "version": 3
   },
   "file_extension": ".py",
   "mimetype": "text/x-python",
   "name": "python",
   "nbconvert_exporter": "python",
   "pygments_lexer": "ipython3",
   "version": "3.10.0-final"
  },
  "orig_nbformat": 2,
  "kernelspec": {
   "name": "python3",
   "display_name": "Python 3.10.0 64-bit ('seoyoung': conda)",
   "metadata": {
    "interpreter": {
     "hash": "5ec318237262e6aa66aa223e0c41f5f44f9fdcfdef49975cd2bcd5f120d8169f"
    }
   }
  }
 },
 "nbformat": 4,
 "nbformat_minor": 2,
 "cells": [
  {
   "cell_type": "code",
   "execution_count": 12,
   "metadata": {},
   "outputs": [],
   "source": [
    "# 크롤링 Crawling 인터네셍서 데이터를 긁어와서 분석하는 방법 \n",
    "\n",
    "import requests                          # 파이썬으로 인터넷을 통해 웹페이지 연결 모듈\n",
    "from bs4 import BeautifulSoup as bs     # 가져온 웹페이지를 분석하기 용이하게 정제 모듈 (필수)\n",
    "import pandas as pd                     # 데이터 분석 모듈 "
   ]
  },
  {
   "cell_type": "code",
   "execution_count": 13,
   "metadata": {},
   "outputs": [
    {
     "output_type": "stream",
     "name": "stdout",
     "text": [
      "Requirement already satisfied: pandas in /Users/macintoshhd/opt/anaconda3/envs/seoyoung/lib/python3.10/site-packages (1.4.2)\n",
      "Requirement already satisfied: pytz>=2020.1 in /Users/macintoshhd/opt/anaconda3/envs/seoyoung/lib/python3.10/site-packages (from pandas) (2022.1)\n",
      "Requirement already satisfied: numpy>=1.21.0 in /Users/macintoshhd/opt/anaconda3/envs/seoyoung/lib/python3.10/site-packages (from pandas) (1.22.4)\n",
      "Requirement already satisfied: python-dateutil>=2.8.1 in /Users/macintoshhd/opt/anaconda3/envs/seoyoung/lib/python3.10/site-packages (from pandas) (2.8.2)\n",
      "Requirement already satisfied: six>=1.5 in /Users/macintoshhd/opt/anaconda3/envs/seoyoung/lib/python3.10/site-packages (from python-dateutil>=2.8.1->pandas) (1.16.0)\n",
      "Note: you may need to restart the kernel to use updated packages.\n"
     ]
    }
   ],
   "source": [
    "pip install pandas"
   ]
  },
  {
   "cell_type": "code",
   "execution_count": 14,
   "metadata": {},
   "outputs": [],
   "source": [
    "response = requests.get('https://www.naver.com')\n",
    "# response.text"
   ]
  },
  {
   "cell_type": "code",
   "execution_count": 15,
   "metadata": {},
   "outputs": [
    {
     "output_type": "execute_result",
     "data": {
      "text/plain": [
       "td>\n",
       "<div class=\"ranking\">\n",
       "<strong>100</strong>\n",
       "<p class=\"change renew\"><em>재진입</em></p>\n",
       "</div>\n",
       "</td>\n",
       "<td>\n",
       "<a class=\"thumbnail\" href=\"https://music.bugs.co.kr/album/17935876?wl_ref=list_tr_07_chart\" onclick=\"\n",
       "\">\n",
       "<span class=\"mask\"></span>\n",
       "<img alt=\"Just Friends 대표이미지\" onerror=\"bugs.utils.imgError(this);\" src=\"https://image.bugsm.co.kr/album/images/50/179358/17935876.jpg?version=20220520024848.0\"/>\n",
       "</a>\n",
       "</td>\n",
       "<td>\n",
       "<a class=\"trackInfo\" href=\"https://music.bugs.co.kr/track/89038511?wl_ref=list_tr_08_chart\" onclick=\"\n",
       "\">곡정보</a>\n",
       "</td>\n",
       "<th scope=\"row\">\n",
       "<p adult_yn=\"N\" class=\"title\">\n",
       "<a adultcheckval=\"1\" aria-label=\"새창\" href=\"javascript:;\" onclick=\"bugs.wiselog.area('list_tr_09_chart');bugs.music.listen('89038511',true);\n",
       "\" title=\"Just Friends\">Just Friends</a>\n",
       "</p>\n",
       "</th>\n",
       "<td class=\"left\">\n",
       "<p class=\"artist\">\n",
       "<a href=\"https://music.bugs.co.kr/artist/20028973?wl_ref=list_tr_10_chart\" onclick=\"\n",
       "\" title=\"Why Don't We(와이 돈 위)\">Why Don't We(와이 돈 위)</a>\n",
       "</p>\n",
       "</td>\n",
       "<td class=\"left\">\n",
       "<a class=\"album\" href=\"https://music.bugs.co.kr/album/17935876?wl_ref=list_tr_11_chart\" onclick=\"\n",
       "\" title=\"Just Friends\">Just Friends</a>\n",
       "</td>\n",
       "<td>\n",
       "<a adultcheckval=\"1\" aria-label=\"새창\" class=\"btn play\" href=\"javascript:;\" onclick=\"bugs.wiselog.area('list_tr_12_chart');bugs.music.listen('89038511',true);\n",
       "\">듣기</a>\n",
       "</td>\n",
       "<td>\n",
       "<a adultcheckval=\"1\" aria-label=\"새창\" class=\"btn addPlaylist\" href=\"javascript:;\" onclick=\"bugs.wiselog.area('list_tr_13_chart');bugs.music.listen('89038511');\n",
       "\">재생목록에 추가</a>\n",
       "</td>\n",
       "<td>\n",
       "<a class=\"btn addAlbum\" href=\"javascript:;\" onclick=\"bugs.wiselog.area('list_tr_14_chart');bugs.music.addTrackToMyAlbum(this,'89038511');\n",
       "\" track_title=\"Just Friends\">내 앨범에 담기</a>\n",
       "</td>\n",
       "<td>\n",
       "<a adultcheckval=\"1\" aria-label=\"새창\" class=\"btn download flac\" href=\"javascript:;\" onclick=\"bugs.wiselog.area('list_tr_15_chart');bugs.layermenu.down(this,'89038511','true','true','44.1','false','', null );\n",
       "\"><em class=\"flac\">flac </em>다운로드</a>\n",
       "</td>\n",
       "<td>\n",
       "<span class=\"btn viewMV\">영상 재생 불가</span>\n",
       "</td>\n",
       "<td>\n",
       "<a artist_disp_nm=\"Why Don\\'t We(와이 돈 위)\" artist_id=\"20028973\" class=\"btnActions\" href=\"javascript:;\" layer_type=\"CHART\" layerpositiontarget=\"td\" onclick=\"bugs.wiselog.area('list_tr_17_chart');\n",
       "bugs.layermenu.trackMoreAction(this,'89038511','0','17935876','bugs.music.listenRadioFromSeed(\\'89038511\\',\\'track\\');','N', 'Y', '_chart');\n",
       "\" track_title=\"Just Friends\">기타 기능</a>\n",
       "</td>\n",
       "</input></tr>\n",
       "</tbody>\n",
       "\n",
       "</table>\n",
       "</div>\n",
       "<div class=\"pageAdditionalInfo\">\n",
       "<ul>\n",
       "<li><span class=\"icon\"></span>집계기간 내 듣기와 다운로드 수 합산하여 반영</li>\n",
       "</ul>\n",
       "</div>\n",
       "<script>\n",
       "$(document).ready(function(){\n",
       "\t\tvar contentsBanner = '[{\"image_bg_color\":\"\",\"clickCount\":0,\"artist\":null,\"sub_category\":\"bugschart\",\"crt_dt\":\"\",\"db_sts\":\"\",\"link\":\"https://music.bugs.co.kr/musicpost/XC2Q461IMQ9UMNDCY9OH\",\"view_target\":\"ALL\",\"title\":\"Sam Smith - \\'Love Me More\\'\",\"str_content_id\":\"0\",\"content_type\":\"NONE\",\"crt_id\":\"\",\"track\":null,\"view_env\":\"SVC\",\"content_id2\":\"\",\"pay_yn\":\"\",\"banner_id\":98179,\"content_id\":0,\"album\":null,\"upd_dt\":\"\",\"mv\":null,\"weight\":0,\"image_path2\":\"\",\"artist_id\":\"0\",\"mobile_target\":\"\",\"target\":\"_self\",\"upd_id\":\"\",\"wiselog_code\":\"\",\"file_ext\":\"\",\"css_class_nm\":\"\",\"image_path\":\"//image.bugsm.co.kr/banner/images/original/179/98/0/98179.jpg\",\"view_start_date\":{\"date\":26,\"hours\":11,\"seconds\":0,\"month\":4,\"timezoneOffset\":-540,\"year\":122,\"minutes\":0,\"time\":1653530400000,\"day\":4},\"expire_day\":0,\"regdate\":{\"date\":26,\"hours\":11,\"seconds\":17,\"month\":4,\"timezoneOffset\":-540,\"year\":122,\"minutes\":29,\"time\":1653532157000,\"day\":4},\"totalWeight\":0,\"app_nm\":\"\",\"album_id\":\"0\",\"lastupdate\":{\"date\":26,\"hours\":11,\"seconds\":17,\"month\":4,\"timezoneOffset\":-540,\"year\":122,\"minutes\":29,\"time\":1653532157000,\"day\":4},\"view_end_date\":{\"date\":26,\"hours\":11,\"seconds\":0,\"month\":0,\"timezoneOffset\":-540,\"year\":123,\"minutes\":0,\"time\":1674698400000,\"day\":4},\"category\":\"WBUGS_CONTENTS_BANNER\",\"status\":\"OK\"},{\"image_bg_color\":\"\",\"clickCount\":0,\"artist\":null,\"sub_category\":\"bugschart\",\"crt_dt\":\"\",\"db_sts\":\"\",\"link\":\"https://music.bugs.co.kr/musicpost/FFTWKX0RT4KO9X7GKNIT\",\"view_target\":\"ALL\",\"title\":\"ㅌ\",\"str_content_id\":\"0\",\"content_type\":\"NONE\",\"crt_id\":\"\",\"track\":null,\"view_env\":\"SVC\",\"content_id2\":\"\",\"pay_yn\":\"\",\"banner_id\":97179,\"content_id\":0,\"album\":null,\"upd_dt\":\"\",\"mv\":null,\"weight\":0,\"image_path2\":\"\",\"artist_id\":\"0\",\"mobile_target\":\"\",\"target\":\"_self\",\"upd_id\":\"\",\"wiselog_code\":\"\",\"file_ext\":\"\",\"css_class_nm\":\"\",\"image_path\":\"//image.bugsm.co.kr/banner/images/original/179/97/0/97179.jpg\",\"view_start_date\":{\"date\":21,\"hours\":13,\"seconds\":0,\"month\":3,\"timezoneOffset\":-540,\"year\":122,\"minutes\":0,\"time\":1650513600000,\"day\":4},\"expire_day\":0,\"regdate\":{\"date\":21,\"hours\":13,\"seconds\":43,\"month\":3,\"timezoneOffset\":-540,\"year\":122,\"minutes\":49,\"time\":1650516583000,\"day\":4},\"totalWeight\":0,\"app_nm\":\"\",\"album_id\":\"0\",\"lastupdate\":{\"date\":21,\"hours\":13,\"seconds\":43,\"month\":3,\"timezoneOffset\":-540,\"year\":122,\"minutes\":49,\"time\":1650516583000,\"day\":4},\"view_end_date\":{\"date\":31,\"hours\":23,\"seconds\":0,\"month\":11,\"timezoneOffset\":-540,\"year\":122,\"minutes\":0,\"time\":1672495200000,\"day\":6},\"category\":\"WBUGS_CONTENTS_BANNER\",\"status\":\"OK\"},{\"image_bg_color\":\"\",\"clickCount\":0,\"artist\":null,\"sub_category\":\"bugschart\",\"crt_dt\":\"\",\"db_sts\":\"\",\"link\":\"https://music.bugs.co.kr/musicpost/VWOT7V7NRLHQ009KNAFE\",\"view_target\":\"ALL\",\"title\":\"vh\",\"str_content_id\":\"0\",\"content_type\":\"NONE\",\"crt_id\":\"\",\"track\":null,\"view_env\":\"SVC\",\"content_id2\":\"\",\"pay_yn\":\"\",\"banner_id\":90023,\"content_id\":0,\"album\":null,\"upd_dt\":\"\",\"mv\":null,\"weight\":0,\"image_path2\":\"\",\"artist_id\":\"0\",\"mobile_target\":\"\",\"target\":\"_self\",\"upd_id\":\"\",\"wiselog_code\":\"\",\"file_ext\":\"\",\"css_class_nm\":\"\",\"image_path\":\"//image.bugsm.co.kr/banner/images/original/23/90/0/90023.jpg\",\"view_start_date\":{\"date\":31,\"hours\":11,\"seconds\":0,\"month\":7,\"timezoneOffset\":-540,\"year\":121,\"minutes\":0,\"time\":1630375200000,\"day\":2},\"expire_day\":0,\"regdate\":{\"date\":31,\"hours\":11,\"seconds\":13,\"month\":7,\"timezoneOffset\":-540,\"year\":121,\"minutes\":43,\"time\":1630377793000,\"day\":2},\"totalWeight\":0,\"app_nm\":\"\",\"album_id\":\"0\",\"lastupdate\":{\"date\":31,\"hours\":11,\"seconds\":13,\"month\":7,\"timezoneOffset\":-540,\"year\":121,\"minutes\":43,\"time\":1630377793000,\"day\":2},\"view_end_date\":{\"date\":31,\"hours\":23,\"seconds\":0,\"month\":11,\"timezoneOffset\":-540,\"year\":122,\"minutes\":0,\"time\":1672495200000,\"day\":6},\"category\":\"WBUGS_CONTENTS_BANNER\",\"status\":\"OK\"}]';\n",
       "\n",
       "\tif(contentsBanner != \"\" && contentsBanner != \"[]\" ){\n",
       "\t\tcontentsBanner = bugs.utils.parseJson(contentsBanner);\n",
       "\t\tvar wiselogStr = \"\";\n",
       "\t\tfor(var i = 0; i < contentsBanner.length && i < 3; i++){\n",
       "\t\t\tif(i==0){\n",
       "\t\t\t\twiselogStr = \"bugs.wiselog.area('S_sp_04_01');\"\n",
       "\t\t\t}else if( i==1){\n",
       "\t\t\t\twiselogStr = \"bugs.wiselog.area('S_sp_04_02');\"\n",
       "\t\t\t}else if( i==2){\n",
       "\t\t\t\twiselogStr = \"bugs.wiselog.area('S_sp_04_03');\"\n",
       "\t\t\t}\n",
       "\t\t\t$('#contentsBanner'+(i+1)).empty();\n",
       "\t\t\t$('#contentsBanner'+(i+1)).append('<a href=\"'+contentsBanner[i].link+'\" target=\"'+contentsBanner[i].target+\n",
       "\t\t\t\t\t'\" onclick=\"'+wiselogStr+'bugs.logging.banner('+contentsBanner[i].banner_id+','+\"'banner'\"+')\" title=\"'+contentsBanner[i].title+'-페이지 이동\">'+\n",
       "\t\t\t\t\t\t\t\t\t\t\t'<img src=\"'+contentsBanner[i].image_path+'\" alt=\"'+contentsBanner[i].title+'\"></a>');\n",
       "\t\t}\n",
       "\t\t\n",
       "\t\tvar oldWidth = $(window).width();\n",
       "\t\tif(oldWidth < 1903){\n",
       "\t\t\t$('#contentsBanner2').addClass('lineBreak');\n",
       "\t\t}else{\n",
       "\t\t\t$('#contentsBanner3').addClass('lineBreak');\n",
       "\t\t}\n",
       "\t\tvar currentWidth = 0;\n",
       "\t\t$(window).on('resize',function(){\n",
       "\t\t\tcurrentWidth = $(window).width();\n",
       "\t\t\tif(oldWidth < 1903 && 1903 <= currentWidth){\n",
       "\t\t\t\t$('#contentsBanner2').removeClass('lineBreak');\n",
       "\t\t\t\t$('#contentsBanner3').addClass('lineBreak');\n",
       "\t\t\t}else if(currentWidth < 1903 && 1903 <= oldWidth){\n",
       "\t\t\t\t$('#contentsBanner3').removeClass('lineBreak');\n",
       "\t\t\t\t$('#contentsBanner2').addClass('lineBreak');\n",
       "\t\t\t}\n",
       "\t\t\toldWidth = currentWidth;\n",
       "\t\t});\n",
       "\t\t\n",
       "\t\t$('aside.contentsBanner').show();\n",
       "\t}\n",
       "\t\n",
       "});\n",
       "</script>\n",
       "<aside class=\"contentsBanner\" style=\"display:none;\">\n",
       "<ul class=\"listContentsBanner\">\n",
       "<li id=\"contentsBanner1\">\n",
       "</li>\n",
       "<li id=\"contentsBanner2\">\n",
       "</li>\n",
       "<li id=\"contentsBanner3\">\n",
       "</li>\n",
       "</ul>\n",
       "</aside>\n",
       "</div>\n",
       "</section>\n",
       "<!-- 레이어 - 실시간  -->\n",
       "<aside class=\"layer layer-select realtime\" style=\"top: 165px;left: 600px;display:block;visibility:hidden;\">\n",
       "<div class=\"box-shadow\"></div>\n",
       "<h1>선택 레이어</h1>\n",
       "<div class=\"innerScroll\">\n",
       "<ul class=\"list-layer-select center\">\n",
       "<li><a class=\"hyrend\" href=\"https://music.bugs.co.kr/chart/track/realtime/total?chartdate=20220607&amp;charthour=14\">14:00</a></li>\n",
       "<li><a class=\"hyrend\" href=\"https://music.bugs.co.kr/chart/track/realtime/total?chartdate=20220607&amp;charthour=13\">13:00</a></li>\n",
       "<li><a class=\"hyrend\" href=\"https://music.bugs.co.kr/chart/track/realtime/total?chartdate=20220607&amp;charthour=12\">12:00</a></li>\n",
       "<li><a class=\"hyrend\" href=\"https://music.bugs.co.kr/chart/track/realtime/total?chartdate=20220607&amp;charthour=11\">11:00</a></li>\n",
       "<li><a class=\"hyrend\" href=\"https://music.bugs.co.kr/chart/track/realtime/total?chartdate=20220607&amp;charthour=10\">10:00</a></li>\n",
       "<li><a class=\"hyrend\" href=\"https://music.bugs.co.kr/chart/track/realtime/total?chartdate=20220607&amp;charthour=09\">09:00</a></li>\n",
       "<li><a class=\"hyrend\" href=\"https://music.bugs.co.kr/chart/track/realtime/total?chartdate=20220607&amp;charthour=08\">08:00</a></li>\n",
       "<li><a class=\"hyrend\" href=\"https://music.bugs.co.kr/chart/track/realtime/total?chartdate=20220607&amp;charthour=07\">07:00</a></li>\n",
       "<li><a class=\"hyrend\" href=\"https://music.bugs.co.kr/chart/track/realtime/total?chartdate=20220607&amp;charthour=01\">01:00</a></li>\n",
       "<li><a class=\"hyrend\" href=\"https://music.bugs.co.kr/chart/track/realtime/total?chartdate=20220607&amp;charthour=00\">00:00</a></li>\n",
       "</ul>\n",
       "</div>\n",
       "</aside>\n",
       "</article>\n",
       "</div>\n",
       "<div class=\"floatingTop\">\n",
       "<a class=\"btnTop\" href=\"javascript:void(bugs.navigator.scrollTop())\">TOP</a>\n",
       "</div>\n",
       "<script src=\"/js/jquery/jquery-dateFormat.min.js\" type=\"text/javascript\"></script>\n",
       "<script>\n",
       "$(window.document).ready(function() {\n",
       "\t\t\tsetTimeout(function(){\n",
       "\t\t\t\t$.ajax({\n",
       "\t\t\t\t\turl : g_urlAjax + \"/board/notice/ajax/commonfooternotice\",\n",
       "\t\t\t\t\ttype : \"POST\",\n",
       "\t\t\t\t\tdataType : \"json\",\n",
       "\t\t\t\t\tsuccess : function(data){\n",
       "\t\t\t\t\t\tif(data != null){\n",
       "\t\t\t\t\t\t\t$(\"#commonFooterNotice a#commonFooterNoticeTitle\").text(data.title);\n",
       "\t\t\t\t\t\t\t$(\"#commonFooterNotice a#commonFooterNoticeTitle\").attr(\"href\", g_urlMusic + \"/board/notice?srl=\" + data.srl + \"&wl_ref=M_footer_01_01\");\n",
       "\t\t\t\t\t\t\t$(\"#commonFooterNotice time\").text(data.crt_dt);\n",
       "\t\t\t\t\t\t\t$(\"#commonFooterNotice time\").attr(\"datetime\", $.format.date(Date.parse(data.crt_dt,\"yyyy.MM.dd\"), \"yyyy-MM-dd\"));\n",
       "\t\t\t\t\t\t}\n",
       "\t\t\t\t\t}\n",
       "\t\t\t\t});\n",
       "\t\t\t}, 1300);\n",
       "\n",
       "});\n",
       "</script>\n",
       "<script src=\"/js/bugs/bugs.footer.layer.js\" type=\"text/javascript\"></script>\n",
       "<footer id=\"footer\">\n",
       "<section class=\"sectionPadding\">\n",
       "<div class=\"innerContainer\">\n",
       "<div class=\"notice\" id=\"commonFooterNotice\">\n",
       "<strong><a href=\"https://music.bugs.co.kr/board/notice?wl_ref=M_footer_01_01\">공지사항</a></strong>\n",
       "<a href=\"javascript:;\" id=\"commonFooterNoticeTitle\"></a>\n",
       "<time datetime=\"\"></time>\n",
       "</div>\n",
       "<div class=\"quicklinks\">\n",
       "<ul>\n",
       "<li><a href=\"https://music.bugs.co.kr/event?wl_ref=M_footer_02_01\">이벤트</a></li>\n",
       "<li><a href=\"https://music.bugs.co.kr/panel?wl_ref=M_footer_02_01\">벅스패널</a></li>\n",
       "</ul>\n",
       "<ul>\n",
       "<li><a href=\"https://music.bugs.co.kr/serviceGuide/home?wl_ref=M_footer_02_07\">벅스 꿀팁 보기</a></li>\n",
       "</ul>\n",
       "</div>\n",
       "</div>\n",
       "</section>\n",
       "<section class=\"sectionPadding contents\">\n",
       "<div class=\"innerContainer\">\n",
       "<ul class=\"links\">\n",
       "<li><a href=\"http://www.bugscorp.co.kr?wl_ref=M_footer_03_01\" target=\"_blank\">회사소개</a></li>\n",
       "<li><a href=\"https://music.bugs.co.kr/cooperation?wl_ref=M_footer_03_01\">제휴문의</a></li>\n",
       "<li><a href=\"https://music.bugs.co.kr/rules/use?wl_ref=M_footer_03_01\">이용약관</a></li>\n",
       "<li><a href=\"https://music.bugs.co.kr/rules/privacy?wl_ref=M_footer_03_01\"><em>개인정보처리방침</em></a></li>\n",
       "<li><a href=\"https://music.bugs.co.kr/rules/youth?wl_ref=M_footer_03_01\">청소년보호정책</a></li>\n",
       "<li><a href=\"https://music.bugs.co.kr/connect/center?wl_ref=M_footer_03_01\">커넥트 센터</a></li>\n",
       "<li><a href=\"http://help.bugs.co.kr?wl_ref=M_footer_03_01\">고객센터</a></li>\n",
       "<li><a href=\"https://music.bugs.co.kr/sitemap?wl_ref=M_footer_03_01\">사이트맵</a></li>\n",
       "<li><a href=\"https://inside.nhn.com/br/index.nhn\" target=\"_blank\">NHN 브랜드 사이트</a></li>\n",
       "</ul>\n",
       "<aside>\n",
       "<div class=\"sns\">\n",
       "<a class=\"blog\" href=\"https://blog.naver.com/blog_bugs\" onclick=\"bugs.wiselog.area('M_fotter_03_01');\" target=\"_blank\">블로그</a>\n",
       "<a class=\"facebook\" href=\"https://www.facebook.com/bugsplay\" onclick=\"bugs.wiselog.area('M_fotter_03_01');\" target=\"_blank\">페이스북</a>\n",
       "<a class=\"kakaostory\" href=\"https://story.kakao.com/ch/bugs\" onclick=\"bugs.wiselog.area('M_fotter_03_01');\" target=\"_blank\">카카오스토리</a>\n",
       "</div>\n",
       "<div class=\"familysite\">\n",
       "<button onclick=\"bugs.ui.cp.footerFamilySiteMenu(this);\" tabindex=\"0\">FAMILY SITE</button>\n",
       "<aside class=\"layer familysiteMenu\">\n",
       "<div class=\"box-shadow\"></div>\n",
       "<ul class=\"list-layer-select\">\n",
       "<li><a href=\"http://www.nhn.com\" onclick=\"if(bugs.wiselog.area) {bugs.wiselog.area('M_fotter_03_01');}\" target=\"_blank\">NHN</a></li>\n",
       "<li><a href=\"http://me.sayclub.com\" onclick=\"if(bugs.wiselog.area) {bugs.wiselog.area('M_fotter_03_01');}\" target=\"_blank\">세이클럽</a></li>\n",
       "</ul>\n",
       "</aside>\n",
       "</div>\n",
       "</aside>\n",
       "<address>\n",
       "<span>(주)엔에이치엔벅스</span>\n",
       "<span>13487 경기도 성남시 분당구 대왕판교로 645번길 16 플레이뮤지엄</span>\n",
       "<span>대표이사 : 왕문주</span>\n",
       "<span>고객센터 : <a href=\"mailto:help@help.bugs.co.kr\">help@help.bugs.co.kr</a> / 1566-4882 (유료)</span><br>\n",
       "<span>사업자등록번호 : 211-87-15555</span>\n",
       "<span>통신판매업 신고번호 : 제 2013-경기성남-0532호</span>\n",
       "<span>호스팅 제공자 : (주)엔에이치엔벅스</span>\n",
       "<span><a href=\"http://www.ftc.go.kr/bizCommPop.do?wrkr_no=2118715555\" target=\"_blank\">사업자 정보 확인</a></span>\n",
       "<span>© NHN Bugs Corp. All rights reserved.</span>\n",
       "</br></address>\n",
       "<script>\n",
       "\n",
       "if (!bugs.ui.cp) {\n",
       "\tbugs.ui.cp = {\n",
       "\t\theaderGameMenuToggle : function() {\n",
       "\t\t\t$('.layer.gameMenu').toggle();\n",
       "\n",
       "\t\t\tif(bugs.wiselog.area) {\n",
       "\t\t\t\tbugs.wiselog.area('M_header_02_02');\n",
       "\t\t\t}\n",
       "\t\t},\n",
       "\t\tfooterFamilySiteMenu : function() {\n",
       "\t\t\t$('.layer.familysiteMenu').toggle();\n",
       "\n",
       "\t\t\tif(bugs.wiselog.area) {\n",
       "\t\t\t\tbugs.wiselog.area('M_fotter_03_01');\n",
       "\t\t\t}\n",
       "\t\t}\n",
       "\t};\n",
       "}\n",
       "\n",
       "</script>\n",
       "<ul class=\"emblem\">\n",
       "<li><a href=\"https://music.bugs.co.kr/board/notice?srl=11259\" onclick=\"bugs.wiselog.area('M_fotter_03_01');\"><img alt=\"Google Play 선정 2018 올해를 빛낸 앱\" src=\"https://file.bugsm.co.kr/wbugs/common/footer/i_footerEmblemGooglePlay.png\"/></a></li>\n",
       "<li><a href=\"https://music.bugs.co.kr/specialView/supersound/NJ6P8GAP0ERQFD84GUCF\" onclick=\"bugs.wiselog.area('M_fotter_03_01');\"><img alt=\"하이 레졸루션 공식인증\" src=\"https://file.bugsm.co.kr/wbugs/common/footer/i_footerEmblemHiRes.png\"/></a></li>\n",
       "<li><a href=\"https://music.bugs.co.kr/board/notice?srl=7949\" onclick=\"bugs.wiselog.area('M_fotter_03_01');\"><img alt=\"2015 상반기 대학생선호브랜드 대상\" src=\"https://file.bugsm.co.kr/wbugs/common/footer/i_footerEmblemHerald.png\"/></a></li>\n",
       "<li><a href=\"https://music.bugs.co.kr/board/notice?srl=5162\" onclick=\"bugs.wiselog.area('M_fotter_03_01');\"><img alt=\"스마트앱어워드 대상 수상\" src=\"https://file.bugsm.co.kr/wbugs/common/footer/i_footerEmblemAppaward.png\"/></a></li>\n",
       "<li><a href=\"javascript:void(0);\" onclick=\"bugs.footer.layer.showIsms();\"><img alt=\"정보보호 관리체계 ISMS 인증\" src=\"https://file.bugsm.co.kr/wbugs/common/footer/i_footerEmblemISMSV202108.png\"/></a></li>\n",
       "<li><a aria-label=\"새창\" href=\"http://www.kdce.or.kr/user/ctf/clmsCtfTransList.do?NmberBusiRegNo=2118715555&amp;websiteName=www.bugs.co.kr\" onclick=\"window.open(this.href,'','width=600,height=669');bugs.wiselog.area('M_fotter_03_01');return false;\"><img alt=\"음악저작권 이용 허락 인증\" src=\"https://file.bugsm.co.kr/wbugs/common/footer/i_footerEmblemClms.png\"/></a></li>\n",
       "<li><a aria-label=\"새창\" href=\"https://www.copyrightok.kr\" onclick=\"bugs.wiselog.area('M_fotter_03_01');\" target=\"_blank\"><img alt=\"저작권OK\" src=\"https://file.bugsm.co.kr/wbugs/common/footer/i_footerEmblemCopyrightok.png\"/></a></li>\n",
       "</ul>\n",
       "</div>\n",
       "</section>\n",
       "</footer>\n",
       "</div>\n",
       "<!--<a href=\"javascript:void(playlists.resetPlaylist())\">리셋하기</a>-->\n",
       "<script type=\"text/javascript\">\n",
       "$(document).ready(function(){\n",
       "\ttry{\n",
       "\t\tbugs.navigator.addHyrendUnloadHandler(function(){playlists.playlistLayerHide();},\"track2playlistForMoveHyrend\", true);\n",
       "\t}catch(e){}\n",
       "\n",
       "});\n",
       "</script>\n",
       "<aside class=\"layer layer-select addMyAlbum\" id=\"track2playlist\" style=\"display:none;\">\n",
       "<div class=\"box-shadow\"></div>\n",
       "<h1>내 앨범 목록</h1>\n",
       "<div autoscroll=\"N\" class=\"innerScroll\" id=\"track2playlistScrollArea\">\n",
       "<ul class=\"list-layer-select\">\n",
       "<li><a href=\"javascript:;\" onclick=\"$('#track2playlist').hide('blind', {}, 'normal', function() { bugs.ui.modalLayer.hide();playlists.make(); });\" title=\"새 앨범 만들기\">+ 새 앨범 만들기</a></li>\n",
       "</ul>\n",
       "</div>\n",
       "</aside>\n",
       "<!-- 레이어 - 내 앨범 수정 -->\n",
       "<aside class=\"layer createMyAlbum\" id=\"editMyAlbumLayer\" style=\"display:none; z-index:1002;\">\n",
       "<div class=\"box-shadow\"></div>\n",
       "<header class=\"layer-title\">\n",
       "<h1>앨범 정보 수정</h1>\n",
       "</header>\n",
       "<section class=\"layerContents\">\n",
       "<fieldset>\n",
       "<legend>내 앨범 수정</legend>\n",
       "<table class=\"formLayout\">\n",
       "<caption>내 앨범 수정 입력 폼</caption>\n",
       "<tbody>\n",
       "<tr>\n",
       "<th scope=\"row\"><label class=\"lb\" for=\"editMyAlbumLayerPhoto\">사진</label></th>\n",
       "<td>\n",
       "<img alt=\"\" class=\"thumb\" id=\"editMyAlbumLayerPhoto_img\" src=\"https://file.bugsm.co.kr/wbugs/common/i_defaultMyAlbum_50x50.png\"/>\n",
       "<div class=\"inputFile\">\n",
       "<input class=\"file\" diabled=\"\" id=\"editMyAlbumLayerPhoto\" type=\"text\">\n",
       "<button class=\"btnNormal\" id=\"searchImage\" type=\"button\">찾아보기</button>\n",
       "<input id=\"editMyAlbumLayerPhoto_path\" title=\"사진경로\" type=\"hidden\"/>\n",
       "</input></div>\n",
       "</td>\n",
       "<td class=\"right\" style=\"width:55px;\"></td>\n",
       "</tr>\n",
       "<tr>\n",
       "<th scope=\"row\" style=\"width:55px;\"><label class=\"lb\" for=\"editMyAlbumLayerTitle\">제목</label></th>\n",
       "<td><input class=\"txt\" id=\"editMyAlbumLayerTitle\" type=\"text\" value=\"111\"/></td>\n",
       "<td class=\"right\" style=\"width:55px;\"><span class=\"remain\" id=\"editMyAlbumLayerTitleRemain\">(0/100)</span></td>\n",
       "</tr>\n",
       "<tr>\n",
       "<th scope=\"row\"><label class=\"lb\" for=\"editMyAlbumLayerDescribe\">설명</label></th>\n",
       "<td>\n",
       "<textarea class=\"txtArea\" cols=\"30\" id=\"editMyAlbumLayerDescribe\" name=\"\" rows=\"10\"></textarea>\n",
       "</td>\n",
       "<td class=\"right\"><span class=\"remain\" id=\"editMyAlbumLayerDescribeRemain\">(0/300)</span></td>\n",
       "</tr>\n",
       "</tbody>\n",
       "</table>\n",
       "<p class=\"btns\">\n",
       "<button btntype=\"ok\" class=\"btnNormal\" id=\"editMyAlbumLayerUpdate\">저장</button>\n",
       "<button btntype=\"cancel\" class=\"btnNormal\" id=\"editMyAlbumLayerCancel\">취소</button>\n",
       "</p>\n",
       "</fieldset>\n",
       "</section>\n",
       "<button btntype=\"close\" class=\"btnClose\" id=\"editMyAlbumLayerClose\">닫기</button>\n",
       "</aside>\n",
       "<aside class=\"layer createMyAlbum\" id=\"createMyAlbumLayer\" style=\"display:none; z-index:1000;\">\n",
       "<div class=\"box-shadow\"></div>\n",
       "<header class=\"layer-title\">\n",
       "<h1 id=\"createMyAlbumLayerHeader\"></h1>\n",
       "</header>\n",
       "<section class=\"layerContents\">\n",
       "<fieldset>\n",
       "<legend id=\"createMyAlbumLayerLegend\"></legend>\n",
       "<div class=\"row\">\n",
       "<label for=\"createMyAlbumLayerTitle\">제목</label>\n",
       "<div class=\"col\">\n",
       "<input class=\"txt\" id=\"createMyAlbumLayerTitle\" type=\"text\" value=\"\"/>\n",
       "<span class=\"remain\" id=\"createMyAlbumLayerTitleRemain\">(0/100)</span>\n",
       "</div>\n",
       "</div>\n",
       "<div class=\"btns\">\n",
       "<button btntype=\"ok\" class=\"btnNormal strong\" id=\"createMyAlbumLayerUpdate\">저장</button>\n",
       "<button btntype=\"cancel\" class=\"btnNormal\" id=\"createMyAlbumLayerCancel\">취소</button>\n",
       "</div>\n",
       "</fieldset>\n",
       "</section>\n",
       "<button btntype=\"close\" class=\"btnClose\" id=\"crerateMyAlbumLayerClose\">닫기</button>\n",
       "</aside>\n",
       "<span id=\"removeSpecialCharTarget\" style=\"display:none;\"></span>\n",
       "<script>\n",
       "try{\n",
       "\tbugs.navigator.setLeftMenuShowOnLoad();\n",
       "}\n",
       "catch(e){}\n",
       "$(document).ready(function(){\n",
       "\tvar isFirefox = navigator.userAgent.toLowerCase().indexOf('firefox') > -1;\n",
       "\tif(isFirefox){\n",
       "\t\t$(\"#skipNav\").css({top:\"1px\", left:\"1px\"});\n",
       "\t}\n",
       "});\n",
       "</script>\n",
       "<!-- 470517  -->\n",
       "<script>\n",
       "try {\n",
       "\t\tvar expTime = (new Date()).getTime() + (60*60*24*30*1000);\n",
       "\tvar expTime2 = (new Date()).getTime() - (60*5*1000);\n",
       "\t    bugs.cookie.set(\"last_login_log_date_cookie\",\"\", expTime2, \"/\", \"bugs.co.kr\");\n",
       "}\n",
       "catch(e){}\n",
       "</script>\n",
       "<!-- 공통 적용 스크립트 , 모든 페이지에 노출되도록 설치. 단 전환페이지 설정값보다 항상 하단에 위치해야함 -->\n",
       "<script src=\"//wcs.naver.net/wcslog.js\" type=\"text/javascript\"> </script>\n",
       "<script type=\"text/javascript\">\n",
       "    if (!wcs_add) var wcs_add={};\n",
       "    wcs_add[\"wa\"] = \"s_595467f7a42\";\n",
       "    if (!_nasa) var _nasa={};\n",
       "    wcs.inflow(\"bugs.co.kr\");\n",
       "    wcs_do(_nasa);\n",
       "</script>\n",
       "</body>\n",
       "</html>"
      ]
     },
     "metadata": {},
     "execution_count": 15
    }
   ],
   "source": [
    "response = requests.get('https://music.bugs.co.kr/chart')   # 분석할 웹페이지 읽어오기\n",
    "soup = bs(response.text)                                    # 가져온 소스 bs 정제               \n",
    "\n",
    "soup"
   ]
  },
  {
   "cell_type": "code",
   "execution_count": 16,
   "metadata": {},
   "outputs": [
    {
     "output_type": "execute_result",
     "data": {
      "text/plain": [
       "104"
      ]
     },
     "metadata": {},
     "execution_count": 16
    }
   ],
   "source": [
    "soup.select('tr')                 # select은 태그들을 선택 \n",
    "len(soup.select('tr'))"
   ]
  },
  {
   "cell_type": "code",
   "execution_count": 21,
   "metadata": {},
   "outputs": [
    {
     "output_type": "execute_result",
     "data": {
      "text/plain": [
       "103"
      ]
     },
     "metadata": {},
     "execution_count": 21
    }
   ],
   "source": [
    "len(soup.select('tbody > tr'))      # 태그의 포함관계를 이용할 수 있음 '>'"
   ]
  },
  {
   "cell_type": "code",
   "execution_count": 22,
   "metadata": {},
   "outputs": [
    {
     "output_type": "execute_result",
     "data": {
      "text/plain": [
       "100"
      ]
     },
     "metadata": {},
     "execution_count": 22
    }
   ],
   "source": [
    "len(soup.select('table.list.trackList.byChart > tbody > tr'))     \n",
    "# class는 .으로 나타낸다. 클래스명의 띄어쓰기도 .으로 나타낸다 "
   ]
  },
  {
   "cell_type": "code",
   "execution_count": 23,
   "metadata": {},
   "outputs": [],
   "source": [
    "# 원하는 데이터들을 선택할 때에는 css html 태그를 이용한다.\n",
    "# 태그의 포함 범위를 확장/축소 해가면서 골라낸다. \n",
    "\n",
    "songs = soup.select('table.list.trackList.byChart > tbody > tr')\n",
    "song = songs[0]"
   ]
  },
  {
   "cell_type": "code",
   "execution_count": 13,
   "metadata": {},
   "outputs": [
    {
     "output_type": "execute_result",
     "data": {
      "text/plain": [
       "11"
      ]
     },
     "metadata": {},
     "execution_count": 13
    }
   ],
   "source": [
    "len(song.select('a'))   "
   ]
  },
  {
   "cell_type": "code",
   "execution_count": 26,
   "metadata": {},
   "outputs": [
    {
     "output_type": "execute_result",
     "data": {
      "text/plain": [
       "[<a adultcheckval=\"1\" aria-label=\"새창\" href=\"javascript:;\" onclick=\"bugs.wiselog.area('list_tr_09_chart');bugs.music.listen('6155955',true);\n",
       " \" title=\"LOVE DIVE\">LOVE DIVE</a>,\n",
       " <a href=\"https://music.bugs.co.kr/artist/20148657?wl_ref=list_tr_10_chart\" onclick=\"\n",
       " \" title=\"IVE (아이브)\">IVE (아이브)</a>]"
      ]
     },
     "metadata": {},
     "execution_count": 26
    }
   ],
   "source": [
    "song.select('p > a')"
   ]
  },
  {
   "cell_type": "code",
   "execution_count": 25,
   "metadata": {},
   "outputs": [
    {
     "output_type": "execute_result",
     "data": {
      "text/plain": [
       "'LOVE DIVE'"
      ]
     },
     "metadata": {},
     "execution_count": 25
    }
   ],
   "source": [
    "song.select('p.title > a') # p 태그 중 클래스 명이 title 아래의 a 태그 값을 추출 \n",
    "song.select('p.title > a')[0].text\n",
    "# 하나밖에 없어도 [0] 인덱스 0은 문법으로 반드시 넣어야한다 "
   ]
  },
  {
   "cell_type": "code",
   "execution_count": 30,
   "metadata": {},
   "outputs": [
    {
     "output_type": "execute_result",
     "data": {
      "text/plain": [
       "'IVE (아이브)'"
      ]
     },
     "metadata": {},
     "execution_count": 30
    }
   ],
   "source": [
    "# 가수 명 추출 \n",
    "song.select('p.artist > a')[0].text"
   ]
  },
  {
   "cell_type": "code",
   "execution_count": 40,
   "metadata": {},
   "outputs": [
    {
     "output_type": "execute_result",
     "data": {
      "text/plain": [
       "'1'"
      ]
     },
     "metadata": {},
     "execution_count": 40
    }
   ],
   "source": [
    "song.select('strong')[0].text"
   ]
  },
  {
   "cell_type": "code",
   "execution_count": 11,
   "metadata": {},
   "outputs": [],
   "source": [
    "song_data = []\n",
    "songs = soup.select('table.list.trackList.byChart > tbody > tr') \n",
    "\n",
    "for song in songs:\n",
    "    rank = song.select('strong')[0].text\n",
    "    title = song.select('p.title > a')[0].text\n",
    "    singer = song.select('p.artist > a')[0].text\n",
    "    song_data.append(['Bugs', rank, title, singer])\n",
    "\n",
    "song_data\n",
    "df = pd.DataFrame(song_data, columns=['차트명','순위','이름','가수'])\n",
    "\n",
    "df\n",
    "\n",
    "df.to_excel('bugs.xlsx', index=False)"
   ]
  },
  {
   "cell_type": "code",
   "execution_count": 6,
   "metadata": {},
   "outputs": [
    {
     "output_type": "stream",
     "name": "stdout",
     "text": [
      "Requirement already satisfied: openpyxl in /Users/macintoshhd/opt/anaconda3/envs/seoyoung/lib/python3.10/site-packages (3.0.10)\n",
      "Requirement already satisfied: et-xmlfile in /Users/macintoshhd/opt/anaconda3/envs/seoyoung/lib/python3.10/site-packages (from openpyxl) (1.1.0)\n",
      "Note: you may need to restart the kernel to use updated packages.\n"
     ]
    }
   ],
   "source": [
    "pip install openpyxl"
   ]
  }
 ]
}