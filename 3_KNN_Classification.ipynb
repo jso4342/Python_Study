{
 "cells": [
  {
   "cell_type": "markdown",
   "metadata": {},
   "source": [
    "# **머신러닝 제 1장**\n",
    "### **k-최근접 이웃 분류(k-Nearest Neighbors - Classification)**  \n",
    "\n",
    "\n",
    "> 예측하고자 하는 값을 입력하면 해당 데이터가 찍힌 점 주위의 다른 데이터들을 보고 다수를 차지하는 것을 정답으로 사용하는 알고리즘.   \n",
    "즉, 주위의 데이터(클래스)로 현재 데이터(클래스)를 판단하는 것이다.  \n",
    "\n",
    "> 예측하고자 하는 샘플에 가장 가까운 샘플 k개를 선택한 후 이 샘플들의 클래스를 확인하여 다수 클래스를 새로운 샘플의 클래스로 예측한다."
   ]
  },
  {
   "cell_type": "code",
   "execution_count": 2,
   "metadata": {},
   "outputs": [],
   "source": [
    "import matplotlib.pyplot as plt"
   ]
  },
  {
   "cell_type": "code",
   "execution_count": 3,
   "metadata": {},
   "outputs": [],
   "source": [
    "#도미의 길이\n",
    "bream_length = [25.4, 26.3, 26.5, 29.0, 29.0, 29.7, 29.7, 30.0, 30.0, 30.7, 31.0, 31.0, \n",
    "                31.5, 32.0, 32.0, 32.0, 33.0, 33.0, 33.5, 33.5, 34.0, 34.0, 34.5, 35.0, \n",
    "                35.0, 35.0, 35.0, 36.0, 36.0, 37.0, 38.5, 38.5, 39.5, 41.0, 41.0]\n",
    "#도미의 무게\n",
    "bream_weight = [242.0, 290.0, 340.0, 363.0, 430.0, 450.0, 500.0, 390.0, 450.0, 500.0, 475.0, 500.0, \n",
    "                500.0, 340.0, 600.0, 600.0, 700.0, 700.0, 610.0, 650.0, 575.0, 685.0, 620.0, 680.0, \n",
    "                700.0, 725.0, 720.0, 714.0, 850.0, 1000.0, 920.0, 955.0, 925.0, 975.0, 950.0]\n",
    "\n",
    "#빙어의 길이\n",
    "smelt_length = [9.8, 10.5, 10.6, 11.0, 11.2, 11.3, 11.8, 11.8, 12.0, 12.2, 12.4, 13.0, 14.3, 15.0]\n",
    "#빙어의 무게\n",
    "smelt_weight = [6.7, 7.5, 7.0, 9.7, 9.8, 8.7, 10.0, 9.9, 9.8, 12.2, 13.4, 12.2, 19.7, 19.9]"
   ]
  },
  {
   "cell_type": "markdown",
   "metadata": {},
   "source": [
    "### **사이킷런(sklearn) : 머신러닝 패키지**"
   ]
  },
  {
   "cell_type": "code",
   "execution_count": 4,
   "metadata": {},
   "outputs": [],
   "source": [
    "from sklearn.neighbors import KNeighborsClassifier"
   ]
  },
  {
   "cell_type": "markdown",
   "metadata": {},
   "source": [
    "### **도미와 빙어의 리스트를 합쳐준다.**"
   ]
  },
  {
   "cell_type": "code",
   "execution_count": 5,
   "metadata": {},
   "outputs": [],
   "source": [
    "length = bream_length + smelt_length\n",
    "weight = bream_weight + smelt_weight"
   ]
  },
  {
   "cell_type": "markdown",
   "metadata": {},
   "source": [
    "### **zip 함수**\n",
    "* 전달한 리스트의 각 원소를 순서대로 꺼내준다."
   ]
  },
  {
   "cell_type": "code",
   "execution_count": 6,
   "metadata": {},
   "outputs": [
    {
     "name": "stdout",
     "output_type": "stream",
     "text": [
      "[['한동석', 20], ['홍길동', 30]]\n"
     ]
    }
   ],
   "source": [
    "name = [\"한동석\", \"홍길동\"]\n",
    "age = [20, 30]\n",
    "print([[n, a] for n, a in zip(name, age)])"
   ]
  },
  {
   "cell_type": "markdown",
   "metadata": {},
   "source": [
    "### **[길이, 무게]의 데이터를 한 쌍으로 list에 담아준다(2차원 list)**"
   ]
  },
  {
   "cell_type": "code",
   "execution_count": 7,
   "metadata": {},
   "outputs": [
    {
     "name": "stdout",
     "output_type": "stream",
     "text": [
      "[[25.4, 242.0], [26.3, 290.0], [26.5, 340.0], [29.0, 363.0], [29.0, 430.0], [29.7, 450.0], [29.7, 500.0], [30.0, 390.0], [30.0, 450.0], [30.7, 500.0], [31.0, 475.0], [31.0, 500.0], [31.5, 500.0], [32.0, 340.0], [32.0, 600.0], [32.0, 600.0], [33.0, 700.0], [33.0, 700.0], [33.5, 610.0], [33.5, 650.0], [34.0, 575.0], [34.0, 685.0], [34.5, 620.0], [35.0, 680.0], [35.0, 700.0], [35.0, 725.0], [35.0, 720.0], [36.0, 714.0], [36.0, 850.0], [37.0, 1000.0], [38.5, 920.0], [38.5, 955.0], [39.5, 925.0], [41.0, 975.0], [41.0, 950.0], [9.8, 6.7], [10.5, 7.5], [10.6, 7.0], [11.0, 9.7], [11.2, 9.8], [11.3, 8.7], [11.8, 10.0], [11.8, 9.9], [12.0, 9.8], [12.2, 12.2], [12.4, 13.4], [13.0, 12.2], [14.3, 19.7], [15.0, 19.9]]\n"
     ]
    }
   ],
   "source": [
    "fish_data = [[l, w] for l, w in zip(length, weight)]\n",
    "print(fish_data)"
   ]
  },
  {
   "cell_type": "markdown",
   "metadata": {},
   "source": [
    "### **도미는 1로, 빙어는 0으로 표현한 list를 선언한다**\n",
    "* 보통 찾으려고 하는 데이터를 1로 표현한다."
   ]
  },
  {
   "cell_type": "code",
   "execution_count": 8,
   "metadata": {},
   "outputs": [
    {
     "name": "stdout",
     "output_type": "stream",
     "text": [
      "[1, 1, 1, 1, 1, 1, 1, 1, 1, 1, 1, 1, 1, 1, 1, 1, 1, 1, 1, 1, 1, 1, 1, 1, 1, 1, 1, 1, 1, 1, 1, 1, 1, 1, 1, 0, 0, 0, 0, 0, 0, 0, 0, 0, 0, 0, 0, 0, 0]\n"
     ]
    }
   ],
   "source": [
    "fish_target = [1] * len(bream_length) + [0] * len(smelt_length)\n",
    "print(fish_target)"
   ]
  },
  {
   "cell_type": "markdown",
   "metadata": {},
   "source": [
    "### **분류**\n",
    "*머신러닝에서 여러 개의 종류(클래스) 중 하나를 구별해 내는 것을 분류(classification)라고 한다.*  \n",
    "*특히 지금과 같이 2개의 클래스 중 하나를 고르는 것을 이진 분류(binary classification)라고 한다.*\n",
    "* 객체지향 언어에서의 클래스와 전혀 다른 의미이다."
   ]
  },
  {
   "cell_type": "code",
   "execution_count": 9,
   "metadata": {},
   "outputs": [],
   "source": [
    "kn = KNeighborsClassifier()"
   ]
  },
  {
   "cell_type": "markdown",
   "metadata": {},
   "source": [
    "### **fit()**\n",
    "> 컴퓨터에게 '도미'와 '빙어'라는 문자를 이해시킬 수 없기 때문에 위에서 0과 1로 표현했으며,  \n",
    "길이와 무게, 그리고 각 길이와 무게에 맞는 판별정수(0과 1)를 동시에 학습시켜서 **도미를 찾기 위한 훈련**을 시킨다.  \n",
    "이 훈련을 **fit() 메소드**가 진행해 준다."
   ]
  },
  {
   "cell_type": "code",
   "execution_count": 10,
   "metadata": {},
   "outputs": [
    {
     "data": {
      "text/plain": [
       "KNeighborsClassifier()"
      ]
     },
     "execution_count": 10,
     "metadata": {},
     "output_type": "execute_result"
    }
   ],
   "source": [
    "kn.fit(fish_data, fish_target)\n",
    "\n",
    "#n_neighbors는 default로 5이며, 새로운 데이터 주위의 5개의 데이터만 검사하여 결과를 낸다는 의미이다."
   ]
  },
  {
   "cell_type": "markdown",
   "metadata": {},
   "source": [
    "### **score()**\n",
    "> kn 모델의 훈련 결과에 대한 평가를 하기 위해서 score() 메소드를 사용하며,\n",
    "이 메소드는 0~1사이의 값을 리턴한다. 1이라면 모든 데이터를 정확히 맞힌 것이며,  \n",
    "0.5라면 50% 즉, 절반만 맞혔다는 것이다. 이러한 결과값을 정확도(accuracy)라고 한다.\n",
    "\n",
    "* 모델이란 머신러닝 알고리즘을 구현한 프로그램을 의미하며, 프로그램이 아니더라도 알고리즘을 구체화하여 표현한 것을 일컫는다."
   ]
  },
  {
   "cell_type": "code",
   "execution_count": 11,
   "metadata": {},
   "outputs": [
    {
     "data": {
      "text/plain": [
       "1.0"
      ]
     },
     "execution_count": 11,
     "metadata": {},
     "output_type": "execute_result"
    }
   ],
   "source": [
    "kn.score(fish_data, fish_target)"
   ]
  },
  {
   "cell_type": "markdown",
   "metadata": {},
   "source": [
    "### **predict()**\n",
    "> 새로운 데이터를 전달하여 결과를 예측하기 위해서는 predict() 메소드를 사용한다.  \n",
    "이전에 사용했던 fit() 메소드와 마찬가지로 2차원 리스트를 전달해야 한다."
   ]
  },
  {
   "cell_type": "code",
   "execution_count": 12,
   "metadata": {},
   "outputs": [
    {
     "data": {
      "text/plain": [
       "array([1, 0])"
      ]
     },
     "execution_count": 12,
     "metadata": {},
     "output_type": "execute_result"
    }
   ],
   "source": [
    "kn.predict([[30, 600], [3, 60]])"
   ]
  },
  {
   "cell_type": "markdown",
   "metadata": {},
   "source": [
    "### **k-최근접 이웃(k-Nearest Neighbors)의 특징**\n",
    "\n",
    "\n",
    "> k-최근접 이웃 알고리즘을 위한 준비는 데이터를 모두 가지고 있는 것이 전부이다.  \n",
    "새로운 데이터를 예측할 때에는 가장 가까운 직선거리에 어떤 데이터가 있는 지를 검사하기만 하면 된다.  \n",
    "하지만, 데이터가 굉장히 많을 경우 사용하기가 어렵다.  \n",
    "메모리를 많이 소모하며, 직선거리 계산에 필요한 시간도 많이 걸리기 때문이다.\n",
    "\n"
   ]
  },
  {
   "cell_type": "markdown",
   "metadata": {},
   "source": [
    "### **n_neighbors의 값을 49로 설정**"
   ]
  },
  {
   "cell_type": "code",
   "execution_count": 13,
   "metadata": {},
   "outputs": [
    {
     "data": {
      "text/plain": [
       "0.7142857142857143"
      ]
     },
     "execution_count": 13,
     "metadata": {},
     "output_type": "execute_result"
    }
   ],
   "source": [
    "kn49 = KNeighborsClassifier(n_neighbors=49)\n",
    "kn49.fit(fish_data, fish_target)\n",
    "kn49.score(fish_data, fish_target)"
   ]
  },
  {
   "cell_type": "markdown",
   "metadata": {},
   "source": [
    "> 49개 중 도미 35개가 다수이므로 어떤 데이터를 넣어도 무조건 도미로 예측하게 된다.  \n",
    "따라서 49개 중 35개를 맞추기 때문에 35/49라는 정확도 나오게 된다."
   ]
  },
  {
   "cell_type": "code",
   "execution_count": 14,
   "metadata": {},
   "outputs": [
    {
     "name": "stdout",
     "output_type": "stream",
     "text": [
      "0.7142857142857143\n"
     ]
    }
   ],
   "source": [
    "print(35/49)"
   ]
  },
  {
   "cell_type": "markdown",
   "metadata": {},
   "source": [
    "### **[실습]**\n",
    "> n_neighbors 기본 값인 5부터 49까지 바꾸어 가며 점수가 1.0아래로 내려가기 시작하는 이웃의 개수 구하기"
   ]
  },
  {
   "cell_type": "code",
   "execution_count": 15,
   "metadata": {},
   "outputs": [
    {
     "name": "stdout",
     "output_type": "stream",
     "text": [
      "18 0.9795918367346939\n"
     ]
    }
   ],
   "source": [
    "kn = KNeighborsClassifier()\n",
    "kn.fit(fish_data, fish_target)\n",
    "for n in range(5, 50):\n",
    "  kn.n_neighbors = n\n",
    "  score = kn.score(fish_data, fish_target)\n",
    "  if(score < 1):\n",
    "    print(n, score)\n",
    "    break;"
   ]
  }
 ],
 "metadata": {
  "kernelspec": {
   "display_name": "Python 3",
   "language": "python",
   "name": "python3"
  },
  "language_info": {
   "codemirror_mode": {
    "name": "ipython",
    "version": 3
   },
   "file_extension": ".py",
   "mimetype": "text/x-python",
   "name": "python",
   "nbconvert_exporter": "python",
   "pygments_lexer": "ipython3",
   "version": "3.8.3"
  }
 },
 "nbformat": 4,
 "nbformat_minor": 4
}
